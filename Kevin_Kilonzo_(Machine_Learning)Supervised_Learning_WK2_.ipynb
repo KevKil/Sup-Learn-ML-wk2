{
  "nbformat": 4,
  "nbformat_minor": 0,
  "metadata": {
    "colab": {
      "name": "Kevin Kilonzo (Machine Learning)Supervised Learning WK2 .ipynb",
      "provenance": [],
      "collapsed_sections": [],
      "toc_visible": true,
      "authorship_tag": "ABX9TyMbW1c5CzotyZBAqNyl3lHb",
      "include_colab_link": true
    },
    "kernelspec": {
      "name": "python3",
      "display_name": "Python 3"
    },
    "language_info": {
      "name": "python"
    }
  },
  "cells": [
    {
      "cell_type": "markdown",
      "metadata": {
        "id": "view-in-github",
        "colab_type": "text"
      },
      "source": [
        "<a href=\"https://colab.research.google.com/github/KevKil/Sup-Learn-ML-wk2/blob/main/Kevin_Kilonzo_(Machine_Learning)Supervised_Learning_WK2_.ipynb\" target=\"_parent\"><img src=\"https://colab.research.google.com/assets/colab-badge.svg\" alt=\"Open In Colab\"/></a>"
      ]
    },
    {
      "cell_type": "markdown",
      "metadata": {
        "id": "IO1pijDTLWx0"
      },
      "source": [
        "# WEEK 2 Supervised Learning Independent Project"
      ]
    },
    {
      "cell_type": "markdown",
      "metadata": {
        "id": "0Jkd7ExFGEN3"
      },
      "source": [
        "## Assessment Question"
      ]
    },
    {
      "cell_type": "markdown",
      "metadata": {
        "id": "BICKJOECH_At"
      },
      "source": [
        "As a Data Scientist, you work for Hass Consulting Company which is a real estate leader with over 25 years of experience. You have been tasked to study the factors that affect housing prices using the given information on real estate properties that was collected over the past few months. Later onwards, create a model that would allow the company to accurately predict the sale of prices upon being provided with the predictor variables. "
      ]
    },
    {
      "cell_type": "markdown",
      "metadata": {
        "id": "16ZooQpUGy_E"
      },
      "source": [
        "## Implimentation"
      ]
    },
    {
      "cell_type": "markdown",
      "metadata": {
        "id": "Ff1No0ioGEKP"
      },
      "source": [
        "### 1. Defining the Question"
      ]
    },
    {
      "cell_type": "markdown",
      "metadata": {
        "id": "JvMFHOWhGEHn"
      },
      "source": [
        "#### a) Specifying the Question"
      ]
    },
    {
      "cell_type": "markdown",
      "metadata": {
        "id": "ugeoCKqyGEEy"
      },
      "source": [
        "Create a model that would allow the company to accurately predict the sale of prices upon being provided with the predictor variables.create a model that would allow the company to accurately predict the sale of prices upon being provided with the predictor variables."
      ]
    },
    {
      "cell_type": "markdown",
      "metadata": {
        "id": "ky98ONIwGECK"
      },
      "source": [
        "#### b) Defining the Metric for Success"
      ]
    },
    {
      "cell_type": "markdown",
      "metadata": {
        "id": "g6plfybQGD_Q"
      },
      "source": [
        "To be able to predict future sale prices of real esttate properties with an accuracy of at least 80% "
      ]
    },
    {
      "cell_type": "markdown",
      "metadata": {
        "id": "o7OVcYUXGD8k"
      },
      "source": [
        "#### c) Understanding the context "
      ]
    },
    {
      "cell_type": "markdown",
      "metadata": {
        "id": "DesqulmnGD6V"
      },
      "source": [
        ""
      ]
    },
    {
      "cell_type": "markdown",
      "metadata": {
        "id": "6zTZ5ixhGD3t"
      },
      "source": [
        "#### d) Recording the Experimental Design"
      ]
    },
    {
      "cell_type": "markdown",
      "metadata": {
        "id": "0S83v9kmGD04"
      },
      "source": [
        "1.   Importing the libraries\n",
        "2.   Reading the data\n",
        "3.   Data wrangling\n",
        "4.   Exploratory data analysis\n",
        "5.   Data preprocessing\n",
        "6.   Supervised learning\n",
        "7.   Conclusions\n",
        "\n"
      ]
    },
    {
      "cell_type": "markdown",
      "metadata": {
        "id": "E5nPy0XCGDyE"
      },
      "source": [
        "#### e) Data relevance / Appropriateness of Data"
      ]
    },
    {
      "cell_type": "markdown",
      "metadata": {
        "id": "LzK0t9EhGDv2"
      },
      "source": [
        "Below is the dataset glossary:\n",
        "\n",
        "* Id  - Unique identifier of the house\n",
        "* price  - Price of the house\n",
        "* bedrooms - Number of Bedrooms \n",
        "* bathrooms - Number of Bathrooms.\n",
        " Components(sink,shower,toilet bathtub with each accounting for 0.25)\n",
        "* sqft_living - Square feet area of living area\n",
        "* sqft_lot  - Square feet area of plot including house and surrounding land\n",
        "* floors - Number of Floors\n",
        "* waterfront - Whether waterfront is there or not\n",
        "* view - Number of Views\n",
        "* grade - Grades\n",
        "* sqft_above - Square feet of area of house without area of basement\n",
        "* sqft_basement - Square feet area of basement only, if house has none = 0\n",
        "* yr_built - Year the house is built\n",
        "* yr_renovated - Year the house is renovated\n",
        "* zipcode - zipcode os the house\n",
        "* lat : Latitude of the house\n",
        "* lon : Longitude of the house\n",
        "* sqft_living15\n",
        "* sqft_lot15"
      ]
    },
    {
      "cell_type": "markdown",
      "metadata": {
        "id": "sbib2FtgGDol"
      },
      "source": [
        "## Importing libraries"
      ]
    },
    {
      "cell_type": "code",
      "metadata": {
        "id": "_-QwxJFoIMax"
      },
      "source": [
        "import numpy as np\n",
        "import pandas as pd\n",
        "import seaborn as sns\n",
        "import matplotlib.pyplot as plt\n",
        "import warnings\n",
        "warnings.filterwarnings('ignore')"
      ],
      "execution_count": 403,
      "outputs": []
    },
    {
      "cell_type": "markdown",
      "metadata": {
        "id": "p7yswKXdIXll"
      },
      "source": [
        "## Reading data"
      ]
    },
    {
      "cell_type": "code",
      "metadata": {
        "id": "JwR8Z9nBINY5"
      },
      "source": [
        "# Loading the dataset\n",
        "data = pd.read_csv('http://bit.ly/IndependentProjectWeek7Dataset')"
      ],
      "execution_count": 404,
      "outputs": []
    },
    {
      "cell_type": "markdown",
      "metadata": {
        "id": "haiesfDaIeOb"
      },
      "source": [
        "### Data Exploration"
      ]
    },
    {
      "cell_type": "code",
      "metadata": {
        "colab": {
          "base_uri": "https://localhost:8080/",
          "height": 226
        },
        "id": "1j-YBq7XIM-S",
        "outputId": "2776b653-90fb-4b0b-fc88-76fdc2568bd4"
      },
      "source": [
        "# Preview of the dataset\n",
        "data.head()"
      ],
      "execution_count": 405,
      "outputs": [
        {
          "output_type": "execute_result",
          "data": {
            "text/html": [
              "<div>\n",
              "<style scoped>\n",
              "    .dataframe tbody tr th:only-of-type {\n",
              "        vertical-align: middle;\n",
              "    }\n",
              "\n",
              "    .dataframe tbody tr th {\n",
              "        vertical-align: top;\n",
              "    }\n",
              "\n",
              "    .dataframe thead th {\n",
              "        text-align: right;\n",
              "    }\n",
              "</style>\n",
              "<table border=\"1\" class=\"dataframe\">\n",
              "  <thead>\n",
              "    <tr style=\"text-align: right;\">\n",
              "      <th></th>\n",
              "      <th>id</th>\n",
              "      <th>price</th>\n",
              "      <th>bedrooms</th>\n",
              "      <th>bathrooms</th>\n",
              "      <th>sqft_living</th>\n",
              "      <th>sqft_lot</th>\n",
              "      <th>floors</th>\n",
              "      <th>waterfront</th>\n",
              "      <th>view</th>\n",
              "      <th>condition</th>\n",
              "      <th>grade</th>\n",
              "      <th>sqft_above</th>\n",
              "      <th>sqft_basement</th>\n",
              "      <th>yr_built</th>\n",
              "      <th>yr_renovated</th>\n",
              "      <th>zipcode</th>\n",
              "      <th>lat</th>\n",
              "      <th>long</th>\n",
              "      <th>sqft_living15</th>\n",
              "      <th>sqft_lot15</th>\n",
              "    </tr>\n",
              "  </thead>\n",
              "  <tbody>\n",
              "    <tr>\n",
              "      <th>0</th>\n",
              "      <td>7129300520</td>\n",
              "      <td>221900.0</td>\n",
              "      <td>3</td>\n",
              "      <td>1.00</td>\n",
              "      <td>1180</td>\n",
              "      <td>5650</td>\n",
              "      <td>1.0</td>\n",
              "      <td>0</td>\n",
              "      <td>0</td>\n",
              "      <td>3</td>\n",
              "      <td>7</td>\n",
              "      <td>1180</td>\n",
              "      <td>0</td>\n",
              "      <td>1955</td>\n",
              "      <td>0</td>\n",
              "      <td>98178</td>\n",
              "      <td>47.5112</td>\n",
              "      <td>-122.257</td>\n",
              "      <td>1340</td>\n",
              "      <td>5650</td>\n",
              "    </tr>\n",
              "    <tr>\n",
              "      <th>1</th>\n",
              "      <td>6414100192</td>\n",
              "      <td>538000.0</td>\n",
              "      <td>3</td>\n",
              "      <td>2.25</td>\n",
              "      <td>2570</td>\n",
              "      <td>7242</td>\n",
              "      <td>2.0</td>\n",
              "      <td>0</td>\n",
              "      <td>0</td>\n",
              "      <td>3</td>\n",
              "      <td>7</td>\n",
              "      <td>2170</td>\n",
              "      <td>400</td>\n",
              "      <td>1951</td>\n",
              "      <td>1991</td>\n",
              "      <td>98125</td>\n",
              "      <td>47.7210</td>\n",
              "      <td>-122.319</td>\n",
              "      <td>1690</td>\n",
              "      <td>7639</td>\n",
              "    </tr>\n",
              "    <tr>\n",
              "      <th>2</th>\n",
              "      <td>5631500400</td>\n",
              "      <td>180000.0</td>\n",
              "      <td>2</td>\n",
              "      <td>1.00</td>\n",
              "      <td>770</td>\n",
              "      <td>10000</td>\n",
              "      <td>1.0</td>\n",
              "      <td>0</td>\n",
              "      <td>0</td>\n",
              "      <td>3</td>\n",
              "      <td>6</td>\n",
              "      <td>770</td>\n",
              "      <td>0</td>\n",
              "      <td>1933</td>\n",
              "      <td>0</td>\n",
              "      <td>98028</td>\n",
              "      <td>47.7379</td>\n",
              "      <td>-122.233</td>\n",
              "      <td>2720</td>\n",
              "      <td>8062</td>\n",
              "    </tr>\n",
              "    <tr>\n",
              "      <th>3</th>\n",
              "      <td>2487200875</td>\n",
              "      <td>604000.0</td>\n",
              "      <td>4</td>\n",
              "      <td>3.00</td>\n",
              "      <td>1960</td>\n",
              "      <td>5000</td>\n",
              "      <td>1.0</td>\n",
              "      <td>0</td>\n",
              "      <td>0</td>\n",
              "      <td>5</td>\n",
              "      <td>7</td>\n",
              "      <td>1050</td>\n",
              "      <td>910</td>\n",
              "      <td>1965</td>\n",
              "      <td>0</td>\n",
              "      <td>98136</td>\n",
              "      <td>47.5208</td>\n",
              "      <td>-122.393</td>\n",
              "      <td>1360</td>\n",
              "      <td>5000</td>\n",
              "    </tr>\n",
              "    <tr>\n",
              "      <th>4</th>\n",
              "      <td>1954400510</td>\n",
              "      <td>510000.0</td>\n",
              "      <td>3</td>\n",
              "      <td>2.00</td>\n",
              "      <td>1680</td>\n",
              "      <td>8080</td>\n",
              "      <td>1.0</td>\n",
              "      <td>0</td>\n",
              "      <td>0</td>\n",
              "      <td>3</td>\n",
              "      <td>8</td>\n",
              "      <td>1680</td>\n",
              "      <td>0</td>\n",
              "      <td>1987</td>\n",
              "      <td>0</td>\n",
              "      <td>98074</td>\n",
              "      <td>47.6168</td>\n",
              "      <td>-122.045</td>\n",
              "      <td>1800</td>\n",
              "      <td>7503</td>\n",
              "    </tr>\n",
              "  </tbody>\n",
              "</table>\n",
              "</div>"
            ],
            "text/plain": [
              "           id     price  bedrooms  ...     long  sqft_living15  sqft_lot15\n",
              "0  7129300520  221900.0         3  ... -122.257           1340        5650\n",
              "1  6414100192  538000.0         3  ... -122.319           1690        7639\n",
              "2  5631500400  180000.0         2  ... -122.233           2720        8062\n",
              "3  2487200875  604000.0         4  ... -122.393           1360        5000\n",
              "4  1954400510  510000.0         3  ... -122.045           1800        7503\n",
              "\n",
              "[5 rows x 20 columns]"
            ]
          },
          "metadata": {},
          "execution_count": 405
        }
      ]
    },
    {
      "cell_type": "code",
      "metadata": {
        "colab": {
          "base_uri": "https://localhost:8080/",
          "height": 226
        },
        "id": "mB9JIAl5IMtj",
        "outputId": "5e436af2-eef6-4b22-a61c-084fd558d4cb"
      },
      "source": [
        "# Preview of the tail of the dataset\n",
        "data.tail()"
      ],
      "execution_count": 406,
      "outputs": [
        {
          "output_type": "execute_result",
          "data": {
            "text/html": [
              "<div>\n",
              "<style scoped>\n",
              "    .dataframe tbody tr th:only-of-type {\n",
              "        vertical-align: middle;\n",
              "    }\n",
              "\n",
              "    .dataframe tbody tr th {\n",
              "        vertical-align: top;\n",
              "    }\n",
              "\n",
              "    .dataframe thead th {\n",
              "        text-align: right;\n",
              "    }\n",
              "</style>\n",
              "<table border=\"1\" class=\"dataframe\">\n",
              "  <thead>\n",
              "    <tr style=\"text-align: right;\">\n",
              "      <th></th>\n",
              "      <th>id</th>\n",
              "      <th>price</th>\n",
              "      <th>bedrooms</th>\n",
              "      <th>bathrooms</th>\n",
              "      <th>sqft_living</th>\n",
              "      <th>sqft_lot</th>\n",
              "      <th>floors</th>\n",
              "      <th>waterfront</th>\n",
              "      <th>view</th>\n",
              "      <th>condition</th>\n",
              "      <th>grade</th>\n",
              "      <th>sqft_above</th>\n",
              "      <th>sqft_basement</th>\n",
              "      <th>yr_built</th>\n",
              "      <th>yr_renovated</th>\n",
              "      <th>zipcode</th>\n",
              "      <th>lat</th>\n",
              "      <th>long</th>\n",
              "      <th>sqft_living15</th>\n",
              "      <th>sqft_lot15</th>\n",
              "    </tr>\n",
              "  </thead>\n",
              "  <tbody>\n",
              "    <tr>\n",
              "      <th>21608</th>\n",
              "      <td>263000018</td>\n",
              "      <td>360000.0</td>\n",
              "      <td>3</td>\n",
              "      <td>2.50</td>\n",
              "      <td>1530</td>\n",
              "      <td>1131</td>\n",
              "      <td>3.0</td>\n",
              "      <td>0</td>\n",
              "      <td>0</td>\n",
              "      <td>3</td>\n",
              "      <td>8</td>\n",
              "      <td>1530</td>\n",
              "      <td>0</td>\n",
              "      <td>2009</td>\n",
              "      <td>0</td>\n",
              "      <td>98103</td>\n",
              "      <td>47.6993</td>\n",
              "      <td>-122.346</td>\n",
              "      <td>1530</td>\n",
              "      <td>1509</td>\n",
              "    </tr>\n",
              "    <tr>\n",
              "      <th>21609</th>\n",
              "      <td>6600060120</td>\n",
              "      <td>400000.0</td>\n",
              "      <td>4</td>\n",
              "      <td>2.50</td>\n",
              "      <td>2310</td>\n",
              "      <td>5813</td>\n",
              "      <td>2.0</td>\n",
              "      <td>0</td>\n",
              "      <td>0</td>\n",
              "      <td>3</td>\n",
              "      <td>8</td>\n",
              "      <td>2310</td>\n",
              "      <td>0</td>\n",
              "      <td>2014</td>\n",
              "      <td>0</td>\n",
              "      <td>98146</td>\n",
              "      <td>47.5107</td>\n",
              "      <td>-122.362</td>\n",
              "      <td>1830</td>\n",
              "      <td>7200</td>\n",
              "    </tr>\n",
              "    <tr>\n",
              "      <th>21610</th>\n",
              "      <td>1523300141</td>\n",
              "      <td>402101.0</td>\n",
              "      <td>2</td>\n",
              "      <td>0.75</td>\n",
              "      <td>1020</td>\n",
              "      <td>1350</td>\n",
              "      <td>2.0</td>\n",
              "      <td>0</td>\n",
              "      <td>0</td>\n",
              "      <td>3</td>\n",
              "      <td>7</td>\n",
              "      <td>1020</td>\n",
              "      <td>0</td>\n",
              "      <td>2009</td>\n",
              "      <td>0</td>\n",
              "      <td>98144</td>\n",
              "      <td>47.5944</td>\n",
              "      <td>-122.299</td>\n",
              "      <td>1020</td>\n",
              "      <td>2007</td>\n",
              "    </tr>\n",
              "    <tr>\n",
              "      <th>21611</th>\n",
              "      <td>291310100</td>\n",
              "      <td>400000.0</td>\n",
              "      <td>3</td>\n",
              "      <td>2.50</td>\n",
              "      <td>1600</td>\n",
              "      <td>2388</td>\n",
              "      <td>2.0</td>\n",
              "      <td>0</td>\n",
              "      <td>0</td>\n",
              "      <td>3</td>\n",
              "      <td>8</td>\n",
              "      <td>1600</td>\n",
              "      <td>0</td>\n",
              "      <td>2004</td>\n",
              "      <td>0</td>\n",
              "      <td>98027</td>\n",
              "      <td>47.5345</td>\n",
              "      <td>-122.069</td>\n",
              "      <td>1410</td>\n",
              "      <td>1287</td>\n",
              "    </tr>\n",
              "    <tr>\n",
              "      <th>21612</th>\n",
              "      <td>1523300157</td>\n",
              "      <td>325000.0</td>\n",
              "      <td>2</td>\n",
              "      <td>0.75</td>\n",
              "      <td>1020</td>\n",
              "      <td>1076</td>\n",
              "      <td>2.0</td>\n",
              "      <td>0</td>\n",
              "      <td>0</td>\n",
              "      <td>3</td>\n",
              "      <td>7</td>\n",
              "      <td>1020</td>\n",
              "      <td>0</td>\n",
              "      <td>2008</td>\n",
              "      <td>0</td>\n",
              "      <td>98144</td>\n",
              "      <td>47.5941</td>\n",
              "      <td>-122.299</td>\n",
              "      <td>1020</td>\n",
              "      <td>1357</td>\n",
              "    </tr>\n",
              "  </tbody>\n",
              "</table>\n",
              "</div>"
            ],
            "text/plain": [
              "               id     price  bedrooms  ...     long  sqft_living15  sqft_lot15\n",
              "21608   263000018  360000.0         3  ... -122.346           1530        1509\n",
              "21609  6600060120  400000.0         4  ... -122.362           1830        7200\n",
              "21610  1523300141  402101.0         2  ... -122.299           1020        2007\n",
              "21611   291310100  400000.0         3  ... -122.069           1410        1287\n",
              "21612  1523300157  325000.0         2  ... -122.299           1020        1357\n",
              "\n",
              "[5 rows x 20 columns]"
            ]
          },
          "metadata": {},
          "execution_count": 406
        }
      ]
    },
    {
      "cell_type": "code",
      "metadata": {
        "colab": {
          "base_uri": "https://localhost:8080/"
        },
        "id": "UNHC-b0HIkng",
        "outputId": "e4775817-5cc8-452f-8eda-78ca2e1d00ea"
      },
      "source": [
        "# Checking number of rows and columns\n",
        "data.shape"
      ],
      "execution_count": 407,
      "outputs": [
        {
          "output_type": "execute_result",
          "data": {
            "text/plain": [
              "(21613, 20)"
            ]
          },
          "metadata": {},
          "execution_count": 407
        }
      ]
    },
    {
      "cell_type": "code",
      "metadata": {
        "colab": {
          "base_uri": "https://localhost:8080/"
        },
        "id": "iqDQWKB6Iljx",
        "outputId": "db44f88d-42a4-4afc-e28c-13c2c2d3e3cd"
      },
      "source": [
        "# Checking columns and their datatypes\n",
        "data.info()"
      ],
      "execution_count": 408,
      "outputs": [
        {
          "output_type": "stream",
          "name": "stdout",
          "text": [
            "<class 'pandas.core.frame.DataFrame'>\n",
            "RangeIndex: 21613 entries, 0 to 21612\n",
            "Data columns (total 20 columns):\n",
            " #   Column         Non-Null Count  Dtype  \n",
            "---  ------         --------------  -----  \n",
            " 0   id             21613 non-null  int64  \n",
            " 1   price          21613 non-null  float64\n",
            " 2   bedrooms       21613 non-null  int64  \n",
            " 3   bathrooms      21613 non-null  float64\n",
            " 4   sqft_living    21613 non-null  int64  \n",
            " 5   sqft_lot       21613 non-null  int64  \n",
            " 6   floors         21613 non-null  float64\n",
            " 7   waterfront     21613 non-null  int64  \n",
            " 8   view           21613 non-null  int64  \n",
            " 9   condition      21613 non-null  int64  \n",
            " 10  grade          21613 non-null  int64  \n",
            " 11  sqft_above     21613 non-null  int64  \n",
            " 12  sqft_basement  21613 non-null  int64  \n",
            " 13  yr_built       21613 non-null  int64  \n",
            " 14  yr_renovated   21613 non-null  int64  \n",
            " 15  zipcode        21613 non-null  int64  \n",
            " 16  lat            21613 non-null  float64\n",
            " 17  long           21613 non-null  float64\n",
            " 18  sqft_living15  21613 non-null  int64  \n",
            " 19  sqft_lot15     21613 non-null  int64  \n",
            "dtypes: float64(5), int64(15)\n",
            "memory usage: 3.3 MB\n"
          ]
        }
      ]
    },
    {
      "cell_type": "markdown",
      "metadata": {
        "id": "TGMKoON0GDe5"
      },
      "source": [
        "## Data wrangling"
      ]
    },
    {
      "cell_type": "code",
      "metadata": {
        "colab": {
          "base_uri": "https://localhost:8080/"
        },
        "id": "Hr6SB2RhI6tW",
        "outputId": "48670aad-36a3-4efe-9aa5-8349bf432756"
      },
      "source": [
        "# Checking null values\n",
        "# \n",
        "data.isna().sum()"
      ],
      "execution_count": 409,
      "outputs": [
        {
          "output_type": "execute_result",
          "data": {
            "text/plain": [
              "id               0\n",
              "price            0\n",
              "bedrooms         0\n",
              "bathrooms        0\n",
              "sqft_living      0\n",
              "sqft_lot         0\n",
              "floors           0\n",
              "waterfront       0\n",
              "view             0\n",
              "condition        0\n",
              "grade            0\n",
              "sqft_above       0\n",
              "sqft_basement    0\n",
              "yr_built         0\n",
              "yr_renovated     0\n",
              "zipcode          0\n",
              "lat              0\n",
              "long             0\n",
              "sqft_living15    0\n",
              "sqft_lot15       0\n",
              "dtype: int64"
            ]
          },
          "metadata": {},
          "execution_count": 409
        }
      ]
    },
    {
      "cell_type": "markdown",
      "metadata": {
        "id": "tkJ_0jJ2HjHG"
      },
      "source": [
        "There are no null values"
      ]
    },
    {
      "cell_type": "code",
      "metadata": {
        "colab": {
          "base_uri": "https://localhost:8080/"
        },
        "id": "Ar71mjInI6qT",
        "outputId": "6b2328d8-edab-4ab5-ddaf-80dcc4c67285"
      },
      "source": [
        "# Checking duplicates\n",
        "# \n",
        "data.duplicated().sum()"
      ],
      "execution_count": 410,
      "outputs": [
        {
          "output_type": "execute_result",
          "data": {
            "text/plain": [
              "3"
            ]
          },
          "metadata": {},
          "execution_count": 410
        }
      ]
    },
    {
      "cell_type": "markdown",
      "metadata": {
        "id": "MQyxLz4wG2e3"
      },
      "source": [
        "As the number of duplicate rows is small they can be dropped wihout affecting the dataset."
      ]
    },
    {
      "cell_type": "code",
      "metadata": {
        "id": "uBSlPdOhI6nv"
      },
      "source": [
        "# Dropping the duplicate values\n",
        "# \n",
        "data = data.drop_duplicates()"
      ],
      "execution_count": 411,
      "outputs": []
    },
    {
      "cell_type": "code",
      "metadata": {
        "colab": {
          "base_uri": "https://localhost:8080/"
        },
        "id": "IDJeoG3EI6ko",
        "outputId": "625216c1-cb24-445d-c628-b122c33e25e9"
      },
      "source": [
        "# Confirming if duplicates have been dropped\n",
        "# \n",
        "data.duplicated().sum()"
      ],
      "execution_count": 412,
      "outputs": [
        {
          "output_type": "execute_result",
          "data": {
            "text/plain": [
              "0"
            ]
          },
          "metadata": {},
          "execution_count": 412
        }
      ]
    },
    {
      "cell_type": "code",
      "metadata": {
        "id": "czlS1FttGyiO"
      },
      "source": [
        "# Dropping columns that are not necessary\n",
        "# \n",
        "data = data.drop(columns=['id','sqft_living15','sqft_lot15','condition'])"
      ],
      "execution_count": 413,
      "outputs": []
    },
    {
      "cell_type": "markdown",
      "metadata": {
        "id": "gT1_JPPoHSAg"
      },
      "source": [
        "* The columns 'sqft_living15' and 'sqft_lot15' were removed as the data is represented in other columns\n",
        "* The column id was removed as it is unique to each observation\n",
        "* Condition column was removed as the values can not be interprated"
      ]
    },
    {
      "cell_type": "code",
      "metadata": {
        "id": "EYkZIHe4HRfj"
      },
      "source": [
        "# Renaming the columns to appropriate names\n",
        "# \n",
        "data = data.rename(columns={'sqft_living':'sqft_living_area',\n",
        "                      'sqft_lot':'sqft_plot',\n",
        "                      'sqft_above':'sqft_above_ground',\n",
        "                      'yr_built':'year_built',\n",
        "                      'yr_renovated':'year_renovated',\n",
        "                      'lat':'latitude',\n",
        "                      'long':'longitude'})"
      ],
      "execution_count": 414,
      "outputs": []
    },
    {
      "cell_type": "code",
      "metadata": {
        "colab": {
          "base_uri": "https://localhost:8080/"
        },
        "id": "WGekm6WCHp0S",
        "outputId": "57ff4412-bc4c-423e-8ea6-3ef9e6a5b968"
      },
      "source": [
        "# Checking if changes have been implimented\n",
        "# \n",
        "data.columns"
      ],
      "execution_count": 415,
      "outputs": [
        {
          "output_type": "execute_result",
          "data": {
            "text/plain": [
              "Index(['price', 'bedrooms', 'bathrooms', 'sqft_living_area', 'sqft_plot',\n",
              "       'floors', 'waterfront', 'view', 'grade', 'sqft_above_ground',\n",
              "       'sqft_basement', 'year_built', 'year_renovated', 'zipcode', 'latitude',\n",
              "       'longitude'],\n",
              "      dtype='object')"
            ]
          },
          "metadata": {},
          "execution_count": 415
        }
      ]
    },
    {
      "cell_type": "markdown",
      "metadata": {
        "id": "JMkEsixMC5BX"
      },
      "source": [
        "### Outlier detection"
      ]
    },
    {
      "cell_type": "markdown",
      "metadata": {
        "id": "yst1hFbFxhC4"
      },
      "source": [
        "Bedrooms column"
      ]
    },
    {
      "cell_type": "code",
      "metadata": {
        "colab": {
          "base_uri": "https://localhost:8080/",
          "height": 296
        },
        "id": "gx2A9VyoI6iA",
        "outputId": "dc1fa63c-2c84-401b-ed6c-a7f07de74b64"
      },
      "source": [
        "# Checking for outliers in bedrooms\n",
        "sns.boxplot(data=data, x= 'bedrooms')"
      ],
      "execution_count": 416,
      "outputs": [
        {
          "output_type": "execute_result",
          "data": {
            "text/plain": [
              "<matplotlib.axes._subplots.AxesSubplot at 0x7f74a4aa4a10>"
            ]
          },
          "metadata": {},
          "execution_count": 416
        },
        {
          "output_type": "display_data",
          "data": {
            "image/png": "[encoded data removed]",
            "text/plain": [
              "<Figure size 432x288 with 1 Axes>"
            ]
          },
          "metadata": {
            "needs_background": "light"
          }
        }
      ]
    },
    {
      "cell_type": "markdown",
      "metadata": {
        "id": "UrCCcRJADpjM"
      },
      "source": [
        "Choose to drop houses with more than 10 bedrooms as it is very unlikely. Houses with no bedrooms can be studio apartments thus will not be removed"
      ]
    },
    {
      "cell_type": "code",
      "metadata": {
        "colab": {
          "base_uri": "https://localhost:8080/"
        },
        "id": "s6ak_D7eI6fm",
        "outputId": "202e4c80-e697-4aa8-f001-c59dc626ae39"
      },
      "source": [
        "# Removing outliers\n",
        "# \n",
        "data = data[data['bedrooms']<=10]\n",
        "\n",
        "# Checking if changes have been implimented\n",
        "data.bedrooms.unique()"
      ],
      "execution_count": 417,
      "outputs": [
        {
          "output_type": "execute_result",
          "data": {
            "text/plain": [
              "array([ 3,  2,  4,  5,  1,  6,  7,  0,  8,  9, 10])"
            ]
          },
          "metadata": {},
          "execution_count": 417
        }
      ]
    },
    {
      "cell_type": "markdown",
      "metadata": {
        "id": "iyiZe8JjxmSi"
      },
      "source": [
        "Bathrooms column"
      ]
    },
    {
      "cell_type": "code",
      "metadata": {
        "colab": {
          "base_uri": "https://localhost:8080/",
          "height": 296
        },
        "id": "YzRhej4-I6b8",
        "outputId": "4eb1657d-0995-441e-f5a2-cf2e8bb518c4"
      },
      "source": [
        "# Checking for outliers in bathrooms\n",
        "sns.boxplot(data=data, x= 'bathrooms')"
      ],
      "execution_count": 418,
      "outputs": [
        {
          "output_type": "execute_result",
          "data": {
            "text/plain": [
              "<matplotlib.axes._subplots.AxesSubplot at 0x7f74a49436d0>"
            ]
          },
          "metadata": {},
          "execution_count": 418
        },
        {
          "output_type": "display_data",
          "data": {
            "image/png": "[encoded data removed]",
            "text/plain": [
              "<Figure size 432x288 with 1 Axes>"
            ]
          },
          "metadata": {
            "needs_background": "light"
          }
        }
      ]
    },
    {
      "cell_type": "markdown",
      "metadata": {
        "id": "-KEptT4ALc6J"
      },
      "source": [
        "Choose to remove houses with more than six bathrooms as it is very unlikely and also remove houses with less than 0.5 bathrooms"
      ]
    },
    {
      "cell_type": "code",
      "metadata": {
        "colab": {
          "base_uri": "https://localhost:8080/"
        },
        "id": "JGOdmARILnVm",
        "outputId": "5cb7cfab-5668-457d-d10a-f92f21beba3c"
      },
      "source": [
        "# Removing outliers\n",
        "# \n",
        "data = data[(data['bathrooms']<=6) & (data['bathrooms']>=0.5)]\n",
        "\n",
        "# Checking if changes have been implimented\n",
        "data.bathrooms.unique()"
      ],
      "execution_count": 419,
      "outputs": [
        {
          "output_type": "execute_result",
          "data": {
            "text/plain": [
              "array([1.  , 2.25, 3.  , 2.  , 4.5 , 1.5 , 2.5 , 1.75, 2.75, 3.25, 4.  ,\n",
              "       3.5 , 0.75, 4.75, 5.  , 4.25, 3.75, 1.25, 5.25, 6.  , 0.5 , 5.5 ,\n",
              "       5.75])"
            ]
          },
          "metadata": {},
          "execution_count": 419
        }
      ]
    },
    {
      "cell_type": "markdown",
      "metadata": {
        "id": "4_DKrHjzxqnw"
      },
      "source": [
        "Square feet living area column"
      ]
    },
    {
      "cell_type": "code",
      "metadata": {
        "colab": {
          "base_uri": "https://localhost:8080/"
        },
        "id": "PI-bye0zTxla",
        "outputId": "1f029a00-2770-44f7-97ac-e424fbfbe48d"
      },
      "source": [
        "# Checking the quartiles in sqft_living_area\n",
        "\n",
        "print('minimum value: ' + str(data.sqft_living_area.min() ) )\n",
        "print('25th quartile: ' + str(np.quantile(data.sqft_living_area, 0.25)))\n",
        "print(\"50th quartile: \" + str(np.quantile(data.sqft_living_area, 0.5)))\n",
        "print('75th quartile: ' + str(np.quantile(data.sqft_living_area, 0.75)))"
      ],
      "execution_count": 420,
      "outputs": [
        {
          "output_type": "stream",
          "name": "stdout",
          "text": [
            "minimum value: 370\n",
            "25th quartile: 1424.25\n",
            "50th quartile: 1910.0\n",
            "75th quartile: 2550.0\n"
          ]
        }
      ]
    },
    {
      "cell_type": "code",
      "metadata": {
        "colab": {
          "base_uri": "https://localhost:8080/",
          "height": 298
        },
        "id": "DmDJe7frI6U7",
        "outputId": "ce3b7cd7-c162-4f8b-d0e3-d637818d1e12"
      },
      "source": [
        "# Checking for outliers in sq-feet living area\n",
        "sns.boxplot(data=data, x= 'sqft_living_area')"
      ],
      "execution_count": 421,
      "outputs": [
        {
          "output_type": "execute_result",
          "data": {
            "text/plain": [
              "<matplotlib.axes._subplots.AxesSubplot at 0x7f74a4924190>"
            ]
          },
          "metadata": {},
          "execution_count": 421
        },
        {
          "output_type": "display_data",
          "data": {
            "image/png": "[encoded data removed]",
            "text/plain": [
              "<Figure size 432x288 with 1 Axes>"
            ]
          },
          "metadata": {
            "needs_background": "light"
          }
        }
      ]
    },
    {
      "cell_type": "markdown",
      "metadata": {
        "id": "Eb1R3Db6Mkym"
      },
      "source": [
        "Choose to remove houses with more than 6000 square feet of living area as it is very unlikely as an average house 2079 square feet."
      ]
    },
    {
      "cell_type": "code",
      "metadata": {
        "id": "ZTts4gKpM2mX"
      },
      "source": [
        "# Removing outliers\n",
        "# \n",
        "data = data[data['sqft_living_area']<=6000]\n"
      ],
      "execution_count": 422,
      "outputs": []
    },
    {
      "cell_type": "markdown",
      "metadata": {
        "id": "sbtAU4_wxxmI"
      },
      "source": [
        "Plot size column"
      ]
    },
    {
      "cell_type": "code",
      "metadata": {
        "colab": {
          "base_uri": "https://localhost:8080/"
        },
        "id": "3yGJ3FaWTcdX",
        "outputId": "ff1f2f96-71ea-4e30-f948-9e18ec44dbe6"
      },
      "source": [
        "# Checking the quartiles in plot size\n",
        "data.sqft_plot.mean()\n",
        "print('minimum value: ' + str(data.sqft_plot.min() ) )\n",
        "print('25th quartile: ' + str(np.quantile(data.sqft_plot, 0.25)))\n",
        "print(\"50th quartile: \" + str(np.quantile(data.sqft_plot, 0.5)))\n",
        "print('75th quartile: ' + str(np.quantile(data.sqft_plot, 0.75)))"
      ],
      "execution_count": 423,
      "outputs": [
        {
          "output_type": "stream",
          "name": "stdout",
          "text": [
            "minimum value: 520\n",
            "25th quartile: 5040.0\n",
            "50th quartile: 7600.0\n",
            "75th quartile: 10620.0\n"
          ]
        }
      ]
    },
    {
      "cell_type": "code",
      "metadata": {
        "colab": {
          "base_uri": "https://localhost:8080/",
          "height": 298
        },
        "id": "NOcyu-H9I6Oq",
        "outputId": "e6b3a666-c432-436a-f738-b9d3289ee1f1"
      },
      "source": [
        "# Checking for outliers in sq-feet plot\n",
        "sns.boxplot(data=data, x= 'sqft_plot')"
      ],
      "execution_count": 424,
      "outputs": [
        {
          "output_type": "execute_result",
          "data": {
            "text/plain": [
              "<matplotlib.axes._subplots.AxesSubplot at 0x7f74a48f1d50>"
            ]
          },
          "metadata": {},
          "execution_count": 424
        },
        {
          "output_type": "display_data",
          "data": {
            "image/png": "[encoded data removed]",
            "text/plain": [
              "<Figure size 432x288 with 1 Axes>"
            ]
          },
          "metadata": {
            "needs_background": "light"
          }
        }
      ]
    },
    {
      "cell_type": "markdown",
      "metadata": {
        "id": "1jaXbhqBTF_q"
      },
      "source": [
        "Houses with more than 40000 lot size are very unlikely as the average lot size is 7619 sq-feet"
      ]
    },
    {
      "cell_type": "code",
      "metadata": {
        "id": "K4sxOtsFuppN"
      },
      "source": [
        "# Removing outliers\n",
        "# \n",
        "data = data[data['sqft_plot']<=30000]\n"
      ],
      "execution_count": 425,
      "outputs": []
    },
    {
      "cell_type": "markdown",
      "metadata": {
        "id": "zKtaLXhhx56G"
      },
      "source": [
        "***Floors column***"
      ]
    },
    {
      "cell_type": "code",
      "metadata": {
        "colab": {
          "base_uri": "https://localhost:8080/",
          "height": 296
        },
        "id": "ehfo5WppI5Qx",
        "outputId": "5764fa80-59e9-48c0-d0ef-3a6868b41953"
      },
      "source": [
        "# Checking for outliers in number of floors\n",
        "sns.boxplot(data=data, x= 'floors')"
      ],
      "execution_count": 426,
      "outputs": [
        {
          "output_type": "execute_result",
          "data": {
            "text/plain": [
              "<matplotlib.axes._subplots.AxesSubplot at 0x7f74a4862650>"
            ]
          },
          "metadata": {},
          "execution_count": 426
        },
        {
          "output_type": "display_data",
          "data": {
            "image/png": "[encoded data removed]",
            "text/plain": [
              "<Figure size 432x288 with 1 Axes>"
            ]
          },
          "metadata": {
            "needs_background": "light"
          }
        }
      ]
    },
    {
      "cell_type": "markdown",
      "metadata": {
        "id": "J1bWkxtmWZJS"
      },
      "source": [
        "No outliers detected in floors column"
      ]
    },
    {
      "cell_type": "markdown",
      "metadata": {
        "id": "jwcyqIjQyWSq"
      },
      "source": [
        "***Grades column***"
      ]
    },
    {
      "cell_type": "code",
      "metadata": {
        "colab": {
          "base_uri": "https://localhost:8080/",
          "height": 296
        },
        "id": "vf7rHrACEfia",
        "outputId": "a286ce6d-dcf1-404a-ba8a-d8b205eaba88"
      },
      "source": [
        "# Checking for outliers in the grade column\n",
        "sns.boxplot(data=data, x= 'grade')"
      ],
      "execution_count": 427,
      "outputs": [
        {
          "output_type": "execute_result",
          "data": {
            "text/plain": [
              "<matplotlib.axes._subplots.AxesSubplot at 0x7f74a47d1890>"
            ]
          },
          "metadata": {},
          "execution_count": 427
        },
        {
          "output_type": "display_data",
          "data": {
            "image/png": "[encoded data removed]",
            "text/plain": [
              "<Figure size 432x288 with 1 Axes>"
            ]
          },
          "metadata": {
            "needs_background": "light"
          }
        }
      ]
    },
    {
      "cell_type": "markdown",
      "metadata": {
        "id": "FylaBJ1WYRQD"
      },
      "source": [
        "Will not remove outliers as grade is a classifier column"
      ]
    },
    {
      "cell_type": "markdown",
      "metadata": {
        "id": "jLmpQi7mybUq"
      },
      "source": [
        "***Square feet above ground column***"
      ]
    },
    {
      "cell_type": "code",
      "metadata": {
        "colab": {
          "base_uri": "https://localhost:8080/"
        },
        "id": "xv-oNBGXZgW7",
        "outputId": "17585593-b7a7-4f53-ebe5-6e8abd5f51fc"
      },
      "source": [
        "# Checking the quartiles in sqft_above_ground size\n",
        "\n",
        "print('25th quartile: ' + str(np.quantile(data.sqft_above_ground, 0.25)))\n",
        "print(\"50th quartile: \" + str(np.quantile(data.sqft_above_ground, 0.5)))\n",
        "print('75th quartile: ' + str(np.quantile(data.sqft_above_ground, 0.75)))"
      ],
      "execution_count": 428,
      "outputs": [
        {
          "output_type": "stream",
          "name": "stdout",
          "text": [
            "25th quartile: 1170.0\n",
            "50th quartile: 1520.0\n",
            "75th quartile: 2120.0\n"
          ]
        }
      ]
    },
    {
      "cell_type": "code",
      "metadata": {
        "colab": {
          "base_uri": "https://localhost:8080/",
          "height": 298
        },
        "id": "Of2q5ektEgOc",
        "outputId": "60f21763-ab46-4cf5-df39-67d47dc37fe5"
      },
      "source": [
        "# Checking for outliers\n",
        "sns.boxplot(data=data, x= 'sqft_above_ground')"
      ],
      "execution_count": 429,
      "outputs": [
        {
          "output_type": "execute_result",
          "data": {
            "text/plain": [
              "<matplotlib.axes._subplots.AxesSubplot at 0x7f74a4799cd0>"
            ]
          },
          "metadata": {},
          "execution_count": 429
        },
        {
          "output_type": "display_data",
          "data": {
            "image/png": "[encoded data removed]",
            "text/plain": [
              "<Figure size 432x288 with 1 Axes>"
            ]
          },
          "metadata": {
            "needs_background": "light"
          }
        }
      ]
    },
    {
      "cell_type": "markdown",
      "metadata": {
        "id": "-Ze4JiqmZ1C9"
      },
      "source": [
        "Remove values above 4000 as they are very unlikely as the mean is 1560"
      ]
    },
    {
      "cell_type": "code",
      "metadata": {
        "id": "kMuWxMk3dQgs"
      },
      "source": [
        "# Removing outliers\n",
        "# \n",
        "data = data[data['sqft_above_ground']<=4000]\n"
      ],
      "execution_count": 430,
      "outputs": []
    },
    {
      "cell_type": "markdown",
      "metadata": {
        "id": "hnTDPO7Byitl"
      },
      "source": [
        "***Square feet basement column***"
      ]
    },
    {
      "cell_type": "code",
      "metadata": {
        "id": "-omPQRXYaIrK"
      },
      "source": [
        "# Selecting the houses with a basement\n",
        "x = data[data['sqft_basement']>0]"
      ],
      "execution_count": 431,
      "outputs": []
    },
    {
      "cell_type": "code",
      "metadata": {
        "colab": {
          "base_uri": "https://localhost:8080/"
        },
        "id": "gdO4eGmzbMNt",
        "outputId": "e7a06d0e-11e3-41c5-edce-d84f1e55d74e"
      },
      "source": [
        "# Checking the quartiles in houses with a basement size\n",
        "\n",
        "print('25th quartile: ' + str(np.quantile(x.sqft_basement, 0.25)))\n",
        "print(\"50th quartile: \" + str(np.quantile(x.sqft_basement, 0.5)))\n",
        "print('75th quartile: ' + str(np.quantile(x.sqft_basement, 0.75)))"
      ],
      "execution_count": 432,
      "outputs": [
        {
          "output_type": "stream",
          "name": "stdout",
          "text": [
            "25th quartile: 440.0\n",
            "50th quartile: 700.0\n",
            "75th quartile: 950.0\n"
          ]
        }
      ]
    },
    {
      "cell_type": "code",
      "metadata": {
        "colab": {
          "base_uri": "https://localhost:8080/",
          "height": 298
        },
        "id": "ACHhtpFobcZ3",
        "outputId": "c28aa9ee-aaf9-449f-f62d-1f8a38207c60"
      },
      "source": [
        "# Checking for outliers for houses with a basement\n",
        "sns.boxplot(data=x, x= 'sqft_basement')"
      ],
      "execution_count": 433,
      "outputs": [
        {
          "output_type": "execute_result",
          "data": {
            "text/plain": [
              "<matplotlib.axes._subplots.AxesSubplot at 0x7f74a4716cd0>"
            ]
          },
          "metadata": {},
          "execution_count": 433
        },
        {
          "output_type": "display_data",
          "data": {
            "image/png": "[encoded data removed]",
            "text/plain": [
              "<Figure size 432x288 with 1 Axes>"
            ]
          },
          "metadata": {
            "needs_background": "light"
          }
        }
      ]
    },
    {
      "cell_type": "markdown",
      "metadata": {
        "id": "RJojYcQFao_v"
      },
      "source": [
        "Remove all houses with a basement foot area of more than 2000 as they are very unlikely as the average of houses with basements is 700 sq-feet"
      ]
    },
    {
      "cell_type": "code",
      "metadata": {
        "id": "QCebFjNGdglp"
      },
      "source": [
        "# Removing outliers\n",
        "# \n",
        "data = data[data['sqft_basement']<=2000]\n"
      ],
      "execution_count": 434,
      "outputs": []
    },
    {
      "cell_type": "markdown",
      "metadata": {
        "id": "LBbPeTciyrK9"
      },
      "source": [
        "***Years built column***"
      ]
    },
    {
      "cell_type": "code",
      "metadata": {
        "colab": {
          "base_uri": "https://localhost:8080/",
          "height": 298
        },
        "id": "I8oj9AP-ElmL",
        "outputId": "a4bf3461-f6f1-4a8e-d04d-08e80329f1b7"
      },
      "source": [
        "# Checking for outliers in year built\n",
        "sns.boxplot(data=data, x= 'year_built')"
      ],
      "execution_count": 435,
      "outputs": [
        {
          "output_type": "execute_result",
          "data": {
            "text/plain": [
              "<matplotlib.axes._subplots.AxesSubplot at 0x7f74a467c290>"
            ]
          },
          "metadata": {},
          "execution_count": 435
        },
        {
          "output_type": "display_data",
          "data": {
            "image/png": "[encoded data removed]",
            "text/plain": [
              "<Figure size 432x288 with 1 Axes>"
            ]
          },
          "metadata": {
            "needs_background": "light"
          }
        }
      ]
    },
    {
      "cell_type": "markdown",
      "metadata": {
        "id": "glLKXBK4dpOw"
      },
      "source": [
        "No outliers detected in year built"
      ]
    },
    {
      "cell_type": "markdown",
      "metadata": {
        "id": "DGpfgE01y7zq"
      },
      "source": [
        "***Year renovated***"
      ]
    },
    {
      "cell_type": "code",
      "metadata": {
        "id": "jZYBDFq-eQno"
      },
      "source": [
        "# Selecting the houses which have been renovated\n",
        "x = data[data['year_renovated']>0]"
      ],
      "execution_count": 436,
      "outputs": []
    },
    {
      "cell_type": "code",
      "metadata": {
        "colab": {
          "base_uri": "https://localhost:8080/",
          "height": 298
        },
        "id": "yXZeFYHPeJ4n",
        "outputId": "944fbd34-ca69-43fd-f826-621ce1e7c594"
      },
      "source": [
        "# Checking for outliers in year renovated\n",
        "sns.boxplot(data=x, x= 'year_renovated')"
      ],
      "execution_count": 437,
      "outputs": [
        {
          "output_type": "execute_result",
          "data": {
            "text/plain": [
              "<matplotlib.axes._subplots.AxesSubplot at 0x7f74a46694d0>"
            ]
          },
          "metadata": {},
          "execution_count": 437
        },
        {
          "output_type": "display_data",
          "data": {
            "image/png": "[encoded data removed]",
            "text/plain": [
              "<Figure size 432x288 with 1 Axes>"
            ]
          },
          "metadata": {
            "needs_background": "light"
          }
        }
      ]
    },
    {
      "cell_type": "markdown",
      "metadata": {
        "id": "vTmVe2aMemDR"
      },
      "source": [
        "Since year houses were built started in 1900 the year of renovations is in range thus no outliers will be removed"
      ]
    },
    {
      "cell_type": "markdown",
      "metadata": {
        "id": "qZsqMegRzHZk"
      },
      "source": [
        "***Zip code***"
      ]
    },
    {
      "cell_type": "code",
      "metadata": {
        "colab": {
          "base_uri": "https://localhost:8080/",
          "height": 296
        },
        "id": "HJmW878YEsrL",
        "outputId": "d1033404-ef3a-4071-e83e-ed04ebb8f1ac"
      },
      "source": [
        "# Checking for outliers in zip code\n",
        "sns.boxplot(data=data, x= 'zipcode')"
      ],
      "execution_count": 438,
      "outputs": [
        {
          "output_type": "execute_result",
          "data": {
            "text/plain": [
              "<matplotlib.axes._subplots.AxesSubplot at 0x7f74a461f4d0>"
            ]
          },
          "metadata": {},
          "execution_count": 438
        },
        {
          "output_type": "display_data",
          "data": {
            "image/png": "[encoded data removed]",
            "text/plain": [
              "<Figure size 432x288 with 1 Axes>"
            ]
          },
          "metadata": {
            "needs_background": "light"
          }
        }
      ]
    },
    {
      "cell_type": "markdown",
      "metadata": {
        "id": "MjRIZH5vd3X0"
      },
      "source": [
        "As the range is small this implies houses come from the same area and no ouliers detected"
      ]
    },
    {
      "cell_type": "markdown",
      "metadata": {
        "id": "xItbdFH7zMkS"
      },
      "source": [
        "***Latitude***"
      ]
    },
    {
      "cell_type": "code",
      "metadata": {
        "colab": {
          "base_uri": "https://localhost:8080/",
          "height": 296
        },
        "id": "uhGru9OyEoj6",
        "outputId": "a9c85484-facc-470c-c4be-5f3fa050c491"
      },
      "source": [
        "# Checking for outliers in latitude\n",
        "sns.boxplot(data=data, x= 'latitude')"
      ],
      "execution_count": 439,
      "outputs": [
        {
          "output_type": "execute_result",
          "data": {
            "text/plain": [
              "<matplotlib.axes._subplots.AxesSubplot at 0x7f74a45b0910>"
            ]
          },
          "metadata": {},
          "execution_count": 439
        },
        {
          "output_type": "display_data",
          "data": {
            "image/png": "[encoded data removed]",
            "text/plain": [
              "<Figure size 432x288 with 1 Axes>"
            ]
          },
          "metadata": {
            "needs_background": "light"
          }
        }
      ]
    },
    {
      "cell_type": "markdown",
      "metadata": {
        "id": "FsgAfU5sfQSC"
      },
      "source": [
        "No outliers detected showing houses are from the same area"
      ]
    },
    {
      "cell_type": "markdown",
      "metadata": {
        "id": "F5Q4OR5uzQnF"
      },
      "source": [
        "***Longitude***"
      ]
    },
    {
      "cell_type": "code",
      "metadata": {
        "colab": {
          "base_uri": "https://localhost:8080/",
          "height": 296
        },
        "id": "ABuyNgbSEn8x",
        "outputId": "7aafb778-3ade-4e53-9f4c-b2db58613c42"
      },
      "source": [
        "sns.boxplot(data=data, x= 'longitude')"
      ],
      "execution_count": 440,
      "outputs": [
        {
          "output_type": "execute_result",
          "data": {
            "text/plain": [
              "<matplotlib.axes._subplots.AxesSubplot at 0x7f74a44bdd90>"
            ]
          },
          "metadata": {},
          "execution_count": 440
        },
        {
          "output_type": "display_data",
          "data": {
            "image/png": "[encoded data removed]",
            "text/plain": [
              "<Figure size 432x288 with 1 Axes>"
            ]
          },
          "metadata": {
            "needs_background": "light"
          }
        }
      ]
    },
    {
      "cell_type": "markdown",
      "metadata": {
        "id": "_I5wCOC-fkD3"
      },
      "source": [
        "The longitude values are in range thus no outlier removal. This indicates they are from the same area"
      ]
    },
    {
      "cell_type": "markdown",
      "metadata": {
        "id": "eg4NJs6zJDlq"
      },
      "source": [
        "## Exploratory Data analysis"
      ]
    },
    {
      "cell_type": "markdown",
      "metadata": {
        "id": "OMnoyoi3JKB9"
      },
      "source": [
        "### a) Univariate"
      ]
    },
    {
      "cell_type": "code",
      "metadata": {
        "colab": {
          "base_uri": "https://localhost:8080/",
          "height": 320
        },
        "id": "rBMnpWTSWHTd",
        "outputId": "e91d4946-5759-49ff-b3b4-cbf3dfc86138"
      },
      "source": [
        "# Statistical summary of the dataset\n",
        "data.describe()"
      ],
      "execution_count": 441,
      "outputs": [
        {
          "output_type": "execute_result",
          "data": {
            "text/html": [
              "<div>\n",
              "<style scoped>\n",
              "    .dataframe tbody tr th:only-of-type {\n",
              "        vertical-align: middle;\n",
              "    }\n",
              "\n",
              "    .dataframe tbody tr th {\n",
              "        vertical-align: top;\n",
              "    }\n",
              "\n",
              "    .dataframe thead th {\n",
              "        text-align: right;\n",
              "    }\n",
              "</style>\n",
              "<table border=\"1\" class=\"dataframe\">\n",
              "  <thead>\n",
              "    <tr style=\"text-align: right;\">\n",
              "      <th></th>\n",
              "      <th>price</th>\n",
              "      <th>bedrooms</th>\n",
              "      <th>bathrooms</th>\n",
              "      <th>sqft_living_area</th>\n",
              "      <th>sqft_plot</th>\n",
              "      <th>floors</th>\n",
              "      <th>waterfront</th>\n",
              "      <th>view</th>\n",
              "      <th>grade</th>\n",
              "      <th>sqft_above_ground</th>\n",
              "      <th>sqft_basement</th>\n",
              "      <th>year_built</th>\n",
              "      <th>year_renovated</th>\n",
              "      <th>zipcode</th>\n",
              "      <th>latitude</th>\n",
              "      <th>longitude</th>\n",
              "    </tr>\n",
              "  </thead>\n",
              "  <tbody>\n",
              "    <tr>\n",
              "      <th>count</th>\n",
              "      <td>1.961500e+04</td>\n",
              "      <td>19615.000000</td>\n",
              "      <td>19615.000000</td>\n",
              "      <td>19615.000000</td>\n",
              "      <td>19615.000000</td>\n",
              "      <td>19615.000000</td>\n",
              "      <td>19615.000000</td>\n",
              "      <td>19615.000000</td>\n",
              "      <td>19615.000000</td>\n",
              "      <td>19615.000000</td>\n",
              "      <td>19615.000000</td>\n",
              "      <td>19615.000000</td>\n",
              "      <td>19615.000000</td>\n",
              "      <td>19615.000000</td>\n",
              "      <td>19615.000000</td>\n",
              "      <td>19615.000000</td>\n",
              "    </tr>\n",
              "    <tr>\n",
              "      <th>mean</th>\n",
              "      <td>5.107825e+05</td>\n",
              "      <td>3.340811</td>\n",
              "      <td>2.064326</td>\n",
              "      <td>1976.323579</td>\n",
              "      <td>7863.531073</td>\n",
              "      <td>1.484374</td>\n",
              "      <td>0.006067</td>\n",
              "      <td>0.211216</td>\n",
              "      <td>7.554015</td>\n",
              "      <td>1692.233495</td>\n",
              "      <td>284.090084</td>\n",
              "      <td>1969.972776</td>\n",
              "      <td>82.532348</td>\n",
              "      <td>98080.702269</td>\n",
              "      <td>47.561958</td>\n",
              "      <td>-122.226806</td>\n",
              "    </tr>\n",
              "    <tr>\n",
              "      <th>std</th>\n",
              "      <td>3.057722e+05</td>\n",
              "      <td>0.892644</td>\n",
              "      <td>0.723466</td>\n",
              "      <td>781.373544</td>\n",
              "      <td>4580.454340</td>\n",
              "      <td>0.542662</td>\n",
              "      <td>0.077655</td>\n",
              "      <td>0.724237</td>\n",
              "      <td>1.062024</td>\n",
              "      <td>701.857366</td>\n",
              "      <td>417.803790</td>\n",
              "      <td>29.859444</td>\n",
              "      <td>397.433149</td>\n",
              "      <td>54.232909</td>\n",
              "      <td>0.136951</td>\n",
              "      <td>0.133124</td>\n",
              "    </tr>\n",
              "    <tr>\n",
              "      <th>min</th>\n",
              "      <td>7.800000e+04</td>\n",
              "      <td>0.000000</td>\n",
              "      <td>0.500000</td>\n",
              "      <td>370.000000</td>\n",
              "      <td>520.000000</td>\n",
              "      <td>1.000000</td>\n",
              "      <td>0.000000</td>\n",
              "      <td>0.000000</td>\n",
              "      <td>3.000000</td>\n",
              "      <td>370.000000</td>\n",
              "      <td>0.000000</td>\n",
              "      <td>1900.000000</td>\n",
              "      <td>0.000000</td>\n",
              "      <td>98001.000000</td>\n",
              "      <td>47.155900</td>\n",
              "      <td>-122.512000</td>\n",
              "    </tr>\n",
              "    <tr>\n",
              "      <th>25%</th>\n",
              "      <td>3.150000e+05</td>\n",
              "      <td>3.000000</td>\n",
              "      <td>1.500000</td>\n",
              "      <td>1390.000000</td>\n",
              "      <td>4980.000000</td>\n",
              "      <td>1.000000</td>\n",
              "      <td>0.000000</td>\n",
              "      <td>0.000000</td>\n",
              "      <td>7.000000</td>\n",
              "      <td>1170.000000</td>\n",
              "      <td>0.000000</td>\n",
              "      <td>1950.000000</td>\n",
              "      <td>0.000000</td>\n",
              "      <td>98033.000000</td>\n",
              "      <td>47.477900</td>\n",
              "      <td>-122.335000</td>\n",
              "    </tr>\n",
              "    <tr>\n",
              "      <th>50%</th>\n",
              "      <td>4.380000e+05</td>\n",
              "      <td>3.000000</td>\n",
              "      <td>2.250000</td>\n",
              "      <td>1850.000000</td>\n",
              "      <td>7246.000000</td>\n",
              "      <td>1.000000</td>\n",
              "      <td>0.000000</td>\n",
              "      <td>0.000000</td>\n",
              "      <td>7.000000</td>\n",
              "      <td>1510.000000</td>\n",
              "      <td>0.000000</td>\n",
              "      <td>1972.000000</td>\n",
              "      <td>0.000000</td>\n",
              "      <td>98074.000000</td>\n",
              "      <td>47.573000</td>\n",
              "      <td>-122.262000</td>\n",
              "    </tr>\n",
              "    <tr>\n",
              "      <th>75%</th>\n",
              "      <td>6.196450e+05</td>\n",
              "      <td>4.000000</td>\n",
              "      <td>2.500000</td>\n",
              "      <td>2440.000000</td>\n",
              "      <td>9612.000000</td>\n",
              "      <td>2.000000</td>\n",
              "      <td>0.000000</td>\n",
              "      <td>0.000000</td>\n",
              "      <td>8.000000</td>\n",
              "      <td>2090.000000</td>\n",
              "      <td>560.000000</td>\n",
              "      <td>1997.000000</td>\n",
              "      <td>0.000000</td>\n",
              "      <td>98118.000000</td>\n",
              "      <td>47.678900</td>\n",
              "      <td>-122.150000</td>\n",
              "    </tr>\n",
              "    <tr>\n",
              "      <th>max</th>\n",
              "      <td>3.650000e+06</td>\n",
              "      <td>10.000000</td>\n",
              "      <td>5.750000</td>\n",
              "      <td>5570.000000</td>\n",
              "      <td>30000.000000</td>\n",
              "      <td>3.500000</td>\n",
              "      <td>1.000000</td>\n",
              "      <td>4.000000</td>\n",
              "      <td>12.000000</td>\n",
              "      <td>4000.000000</td>\n",
              "      <td>2000.000000</td>\n",
              "      <td>2015.000000</td>\n",
              "      <td>2015.000000</td>\n",
              "      <td>98199.000000</td>\n",
              "      <td>47.777600</td>\n",
              "      <td>-121.315000</td>\n",
              "    </tr>\n",
              "  </tbody>\n",
              "</table>\n",
              "</div>"
            ],
            "text/plain": [
              "              price      bedrooms  ...      latitude     longitude\n",
              "count  1.961500e+04  19615.000000  ...  19615.000000  19615.000000\n",
              "mean   5.107825e+05      3.340811  ...     47.561958   -122.226806\n",
              "std    3.057722e+05      0.892644  ...      0.136951      0.133124\n",
              "min    7.800000e+04      0.000000  ...     47.155900   -122.512000\n",
              "25%    3.150000e+05      3.000000  ...     47.477900   -122.335000\n",
              "50%    4.380000e+05      3.000000  ...     47.573000   -122.262000\n",
              "75%    6.196450e+05      4.000000  ...     47.678900   -122.150000\n",
              "max    3.650000e+06     10.000000  ...     47.777600   -121.315000\n",
              "\n",
              "[8 rows x 16 columns]"
            ]
          },
          "metadata": {},
          "execution_count": 441
        }
      ]
    },
    {
      "cell_type": "code",
      "metadata": {
        "colab": {
          "base_uri": "https://localhost:8080/",
          "height": 386
        },
        "id": "eCdq47HUJPbS",
        "outputId": "8b2d30cc-0712-47cd-e1ba-cafdcf712d8a"
      },
      "source": [
        "# Distribution plot of prices of houses\n",
        "sns.displot(data=data, x= 'price',binwidth=100000, kde=True)"
      ],
      "execution_count": 442,
      "outputs": [
        {
          "output_type": "execute_result",
          "data": {
            "text/plain": [
              "<seaborn.axisgrid.FacetGrid at 0x7f74a44a8910>"
            ]
          },
          "metadata": {},
          "execution_count": 442
        },
        {
          "output_type": "display_data",
          "data": {
            "image/png": "[encoded data removed]",
            "text/plain": [
              "<Figure size 360x360 with 1 Axes>"
            ]
          },
          "metadata": {
            "needs_background": "light"
          }
        }
      ]
    },
    {
      "cell_type": "markdown",
      "metadata": {
        "id": "bkV04aPZ5tQ-"
      },
      "source": [
        "Most of the houses range from 200,000 and 600,000 US dollars with most houses between 300,000 and 400,000 usd"
      ]
    },
    {
      "cell_type": "code",
      "metadata": {
        "colab": {
          "base_uri": "https://localhost:8080/",
          "height": 296
        },
        "id": "yuuxzlo0Qpoi",
        "outputId": "e92e7fd7-d64e-45c6-e292-a15065b8f8a8"
      },
      "source": [
        "# Countplot of bedrooms\n",
        "sns.countplot(data=data, y='bedrooms', order= data.bedrooms.value_counts().index)"
      ],
      "execution_count": 443,
      "outputs": [
        {
          "output_type": "execute_result",
          "data": {
            "text/plain": [
              "<matplotlib.axes._subplots.AxesSubplot at 0x7f74a43d8c90>"
            ]
          },
          "metadata": {},
          "execution_count": 443
        },
        {
          "output_type": "display_data",
          "data": {
            "image/png": "[encoded data removed]",
            "text/plain": [
              "<Figure size 432x288 with 1 Axes>"
            ]
          },
          "metadata": {
            "needs_background": "light"
          }
        }
      ]
    },
    {
      "cell_type": "markdown",
      "metadata": {
        "id": "4wNQ66Il1VMB"
      },
      "source": [
        "Houses with three bedrooms are the most popular"
      ]
    },
    {
      "cell_type": "code",
      "metadata": {
        "colab": {
          "base_uri": "https://localhost:8080/",
          "height": 296
        },
        "id": "c0T8p5-CfGi8",
        "outputId": "8add4efa-8ca6-49e7-a2f9-a655dc907dfa"
      },
      "source": [
        "# Count plot of bathroom size\n",
        "sns.countplot(data=data, y='bathrooms',order= data.bathrooms.value_counts().index)"
      ],
      "execution_count": 444,
      "outputs": [
        {
          "output_type": "execute_result",
          "data": {
            "text/plain": [
              "<matplotlib.axes._subplots.AxesSubplot at 0x7f74a4301310>"
            ]
          },
          "metadata": {},
          "execution_count": 444
        },
        {
          "output_type": "display_data",
          "data": {
            "image/png": "[encoded data removed]",
            "text/plain": [
              "<Figure size 432x288 with 1 Axes>"
            ]
          },
          "metadata": {
            "needs_background": "light"
          }
        }
      ]
    },
    {
      "cell_type": "markdown",
      "metadata": {
        "id": "edpbnQi-1vnF"
      },
      "source": [
        "Most popular bathroom is 2.5 which is 2 full bathrooms (toilet, shower, bathtub and sink) and 0.5 bathroom (usually sink and toilet)"
      ]
    },
    {
      "cell_type": "code",
      "metadata": {
        "colab": {
          "base_uri": "https://localhost:8080/",
          "height": 298
        },
        "id": "xbY6R3H6nwtH",
        "outputId": "84d2e72c-2e11-4112-ceb4-43e993ec0c64"
      },
      "source": [
        "# Histogram of square feet living area with distribution curve\n",
        "sns.histplot(data= data, x='sqft_living_area',binwidth=500, kde=True, )"
      ],
      "execution_count": 445,
      "outputs": [
        {
          "output_type": "execute_result",
          "data": {
            "text/plain": [
              "<matplotlib.axes._subplots.AxesSubplot at 0x7f74a4244fd0>"
            ]
          },
          "metadata": {},
          "execution_count": 445
        },
        {
          "output_type": "display_data",
          "data": {
            "image/png": "[encoded data removed]",
            "text/plain": [
              "<Figure size 432x288 with 1 Axes>"
            ]
          },
          "metadata": {
            "needs_background": "light"
          }
        }
      ]
    },
    {
      "cell_type": "markdown",
      "metadata": {
        "id": "DqwJubjv2-GQ"
      },
      "source": [
        "Most common square feet living area is between 1500 and 2000 units"
      ]
    },
    {
      "cell_type": "code",
      "metadata": {
        "colab": {
          "base_uri": "https://localhost:8080/",
          "height": 298
        },
        "id": "cgpOg_KVoLsR",
        "outputId": "47b6556b-8350-4194-93a2-1ab83b2be71d"
      },
      "source": [
        "# Histplot of square feet plot area\n",
        "sns.histplot(data= data, x='sqft_plot', binwidth=1000, kde=True)"
      ],
      "execution_count": 446,
      "outputs": [
        {
          "output_type": "execute_result",
          "data": {
            "text/plain": [
              "<matplotlib.axes._subplots.AxesSubplot at 0x7f74a41e1ad0>"
            ]
          },
          "metadata": {},
          "execution_count": 446
        },
        {
          "output_type": "display_data",
          "data": {
            "image/png": "[encoded data removed]",
            "text/plain": [
              "<Figure size 432x288 with 1 Axes>"
            ]
          },
          "metadata": {
            "needs_background": "light"
          }
        }
      ]
    },
    {
      "cell_type": "markdown",
      "metadata": {
        "id": "8BHxpqQ85DzY"
      },
      "source": [
        "Most of the plot area of the homes are between 4000 and 8000 square feet "
      ]
    },
    {
      "cell_type": "code",
      "metadata": {
        "colab": {
          "base_uri": "https://localhost:8080/",
          "height": 296
        },
        "id": "fYT1rYNj7nUn",
        "outputId": "5a9f6448-b0d3-4657-cfac-1b89ba7cf35a"
      },
      "source": [
        "# Bar graph showing value counts of floors\n",
        "sns.countplot(data=data, x='floors',order= data.floors.value_counts().index)"
      ],
      "execution_count": 447,
      "outputs": [
        {
          "output_type": "execute_result",
          "data": {
            "text/plain": [
              "<matplotlib.axes._subplots.AxesSubplot at 0x7f74a4c64f10>"
            ]
          },
          "metadata": {},
          "execution_count": 447
        },
        {
          "output_type": "display_data",
          "data": {
            "image/png": "[encoded data removed]",
            "text/plain": [
              "<Figure size 432x288 with 1 Axes>"
            ]
          },
          "metadata": {
            "needs_background": "light"
          }
        }
      ]
    },
    {
      "cell_type": "markdown",
      "metadata": {
        "id": "e4mLEqhB8N1E"
      },
      "source": [
        "Most common house only has one floor"
      ]
    },
    {
      "cell_type": "code",
      "metadata": {
        "colab": {
          "base_uri": "https://localhost:8080/",
          "height": 296
        },
        "id": "KxjdNLol8tgo",
        "outputId": "3cf1a6d6-596d-463b-bc45-1403fc0e425d"
      },
      "source": [
        "# Bar ploting counts of watafront house or not\n",
        "sns.countplot(data=data, x='waterfront',order= data.waterfront.value_counts().index)"
      ],
      "execution_count": 448,
      "outputs": [
        {
          "output_type": "execute_result",
          "data": {
            "text/plain": [
              "<matplotlib.axes._subplots.AxesSubplot at 0x7f74a4cebb90>"
            ]
          },
          "metadata": {},
          "execution_count": 448
        },
        {
          "output_type": "display_data",
          "data": {
            "image/png": "[encoded data removed]",
            "text/plain": [
              "<Figure size 432x288 with 1 Axes>"
            ]
          },
          "metadata": {
            "needs_background": "light"
          }
        }
      ]
    },
    {
      "cell_type": "markdown",
      "metadata": {
        "id": "w0duKEdt9IpZ"
      },
      "source": [
        "Almost all of the houses are not located near to or adjacent to a waterfront "
      ]
    },
    {
      "cell_type": "code",
      "metadata": {
        "colab": {
          "base_uri": "https://localhost:8080/",
          "height": 296
        },
        "id": "1Xr25Iww9X_5",
        "outputId": "70130af9-2fbb-4609-c5e8-6fe088937370"
      },
      "source": [
        "# Plotting viewcounts of the houses\n",
        "sns.countplot(data=data, x='view',order= data.view.value_counts().index)"
      ],
      "execution_count": 449,
      "outputs": [
        {
          "output_type": "execute_result",
          "data": {
            "text/plain": [
              "<matplotlib.axes._subplots.AxesSubplot at 0x7f74a4f58550>"
            ]
          },
          "metadata": {},
          "execution_count": 449
        },
        {
          "output_type": "display_data",
          "data": {
            "image/png": "[encoded data removed]",
            "text/plain": [
              "<Figure size 432x288 with 1 Axes>"
            ]
          },
          "metadata": {
            "needs_background": "light"
          }
        }
      ]
    },
    {
      "cell_type": "markdown",
      "metadata": {
        "id": "Thl09vie9l9k"
      },
      "source": [
        "Most of the houses have no view meaning they are boxed in by other properties and are not tall enough to have a view"
      ]
    },
    {
      "cell_type": "code",
      "metadata": {
        "colab": {
          "base_uri": "https://localhost:8080/",
          "height": 296
        },
        "id": "qItGMeGv97XN",
        "outputId": "b6b4465e-84e8-4349-f24f-b585242eb916"
      },
      "source": [
        "# Plot of housing grade values\n",
        "sns.countplot(data=data, x='grade',order= data.grade.value_counts().index)"
      ],
      "execution_count": 450,
      "outputs": [
        {
          "output_type": "execute_result",
          "data": {
            "text/plain": [
              "<matplotlib.axes._subplots.AxesSubplot at 0x7f74a5039ed0>"
            ]
          },
          "metadata": {},
          "execution_count": 450
        },
        {
          "output_type": "display_data",
          "data": {
            "image/png": "[encoded data removed]",
            "text/plain": [
              "<Figure size 432x288 with 1 Axes>"
            ]
          },
          "metadata": {
            "needs_background": "light"
          }
        }
      ]
    },
    {
      "cell_type": "markdown",
      "metadata": {
        "id": "OeXfAaMYAtsL"
      },
      "source": [
        "The grade of most houses is at the middle not new and with better ammenities but not deteriorating and in need of urgent repair"
      ]
    },
    {
      "cell_type": "code",
      "metadata": {
        "colab": {
          "base_uri": "https://localhost:8080/",
          "height": 386
        },
        "id": "sy4ZURKnBBvS",
        "outputId": "1872a2a9-9756-452f-d5a1-9c835db5758a"
      },
      "source": [
        "# Distribution plot of square feet above ground\n",
        "sns.displot(data=data, x= 'sqft_above_ground',binwidth=500, kde=True)"
      ],
      "execution_count": 451,
      "outputs": [
        {
          "output_type": "execute_result",
          "data": {
            "text/plain": [
              "<seaborn.axisgrid.FacetGrid at 0x7f74a530f990>"
            ]
          },
          "metadata": {},
          "execution_count": 451
        },
        {
          "output_type": "display_data",
          "data": {
            "image/png": "[encoded data removed]",
            "text/plain": [
              "<Figure size 360x360 with 1 Axes>"
            ]
          },
          "metadata": {
            "needs_background": "light"
          }
        }
      ]
    },
    {
      "cell_type": "markdown",
      "metadata": {
        "id": "1PEtKSo1BZil"
      },
      "source": [
        "Most house size above ground in square feet are between 900 and 1400 square feet"
      ]
    },
    {
      "cell_type": "code",
      "metadata": {
        "colab": {
          "base_uri": "https://localhost:8080/",
          "height": 386
        },
        "id": "T770XN0sBvn_",
        "outputId": "f1ca23a5-ab30-4fe6-f73c-654c0129831f"
      },
      "source": [
        "# Distribution plot of square feet basement\n",
        "sns.displot(data=data, x= 'sqft_basement',binwidth=100, kde=True)"
      ],
      "execution_count": 452,
      "outputs": [
        {
          "output_type": "execute_result",
          "data": {
            "text/plain": [
              "<seaborn.axisgrid.FacetGrid at 0x7f74a4fbf810>"
            ]
          },
          "metadata": {},
          "execution_count": 452
        },
        {
          "output_type": "display_data",
          "data": {
            "image/png": "[encoded data removed]",
            "text/plain": [
              "<Figure size 360x360 with 1 Axes>"
            ]
          },
          "metadata": {
            "needs_background": "light"
          }
        }
      ]
    },
    {
      "cell_type": "markdown",
      "metadata": {
        "id": "K8WyjM9KB8Ia"
      },
      "source": [
        "* Most of the houses have no basement\n",
        "* Of the houses with a baement the most common size is between 700 and 800 square feet"
      ]
    },
    {
      "cell_type": "code",
      "metadata": {
        "colab": {
          "base_uri": "https://localhost:8080/",
          "height": 298
        },
        "id": "DE1gtlUFvaVW",
        "outputId": "aa4b3a4f-a821-4292-bd6b-20a432d924d8"
      },
      "source": [
        "# Histogeam of the year the houses were built\n",
        "sns.histplot(data=data, x='year_built', binwidth=10, kde=True)"
      ],
      "execution_count": 453,
      "outputs": [
        {
          "output_type": "execute_result",
          "data": {
            "text/plain": [
              "<matplotlib.axes._subplots.AxesSubplot at 0x7f74a4d3cf90>"
            ]
          },
          "metadata": {},
          "execution_count": 453
        },
        {
          "output_type": "display_data",
          "data": {
            "image/png": "[encoded data removed]",
            "text/plain": [
              "<Figure size 432x288 with 1 Axes>"
            ]
          },
          "metadata": {
            "needs_background": "light"
          }
        }
      ]
    },
    {
      "cell_type": "markdown",
      "metadata": {
        "id": "eleOSELOCqc8"
      },
      "source": [
        "The most common decade for building houses was 2010's"
      ]
    },
    {
      "cell_type": "code",
      "metadata": {
        "colab": {
          "base_uri": "https://localhost:8080/"
        },
        "id": "9tjzGeYHJK1w",
        "outputId": "838ae2e5-c0c9-4342-becf-5c9f84bde20a"
      },
      "source": [
        "# Frequency counts of years renovated of the houses\n",
        "data.year_renovated.value_counts().head(10)"
      ],
      "execution_count": 454,
      "outputs": [
        {
          "output_type": "execute_result",
          "data": {
            "text/plain": [
              "0       18804\n",
              "2014       90\n",
              "2013       36\n",
              "2005       32\n",
              "2003       32\n",
              "2007       30\n",
              "2000       29\n",
              "2004       24\n",
              "2009       21\n",
              "2006       21\n",
              "Name: year_renovated, dtype: int64"
            ]
          },
          "metadata": {},
          "execution_count": 454
        }
      ]
    },
    {
      "cell_type": "markdown",
      "metadata": {
        "id": "31DLbjM0KavE"
      },
      "source": [
        "Most of the houses have not been renovated"
      ]
    },
    {
      "cell_type": "markdown",
      "metadata": {
        "id": "vG3zyzcrJRJi"
      },
      "source": [
        "### b) Bivariate "
      ]
    },
    {
      "cell_type": "code",
      "metadata": {
        "colab": {
          "base_uri": "https://localhost:8080/",
          "height": 571
        },
        "id": "AzaYwFBBJaTC",
        "outputId": "85e8e43f-7201-46b2-c1ea-9a71734515f5"
      },
      "source": [
        "# Checking the correlation between numerical variables\n",
        "\n",
        "correlations = data.corr()\n",
        "correlations"
      ],
      "execution_count": 455,
      "outputs": [
        {
          "output_type": "execute_result",
          "data": {
            "text/html": [
              "<div>\n",
              "<style scoped>\n",
              "    .dataframe tbody tr th:only-of-type {\n",
              "        vertical-align: middle;\n",
              "    }\n",
              "\n",
              "    .dataframe tbody tr th {\n",
              "        vertical-align: top;\n",
              "    }\n",
              "\n",
              "    .dataframe thead th {\n",
              "        text-align: right;\n",
              "    }\n",
              "</style>\n",
              "<table border=\"1\" class=\"dataframe\">\n",
              "  <thead>\n",
              "    <tr style=\"text-align: right;\">\n",
              "      <th></th>\n",
              "      <th>price</th>\n",
              "      <th>bedrooms</th>\n",
              "      <th>bathrooms</th>\n",
              "      <th>sqft_living_area</th>\n",
              "      <th>sqft_plot</th>\n",
              "      <th>floors</th>\n",
              "      <th>waterfront</th>\n",
              "      <th>view</th>\n",
              "      <th>grade</th>\n",
              "      <th>sqft_above_ground</th>\n",
              "      <th>sqft_basement</th>\n",
              "      <th>year_built</th>\n",
              "      <th>year_renovated</th>\n",
              "      <th>zipcode</th>\n",
              "      <th>latitude</th>\n",
              "      <th>longitude</th>\n",
              "    </tr>\n",
              "  </thead>\n",
              "  <tbody>\n",
              "    <tr>\n",
              "      <th>price</th>\n",
              "      <td>1.000000</td>\n",
              "      <td>0.294558</td>\n",
              "      <td>0.465780</td>\n",
              "      <td>0.646052</td>\n",
              "      <td>0.110442</td>\n",
              "      <td>0.250055</td>\n",
              "      <td>0.247941</td>\n",
              "      <td>0.404456</td>\n",
              "      <td>0.641684</td>\n",
              "      <td>0.523873</td>\n",
              "      <td>0.328201</td>\n",
              "      <td>0.002043</td>\n",
              "      <td>0.148263</td>\n",
              "      <td>-0.014549</td>\n",
              "      <td>0.354958</td>\n",
              "      <td>-0.014231</td>\n",
              "    </tr>\n",
              "    <tr>\n",
              "      <th>bedrooms</th>\n",
              "      <td>0.294558</td>\n",
              "      <td>1.000000</td>\n",
              "      <td>0.509525</td>\n",
              "      <td>0.612973</td>\n",
              "      <td>0.180870</td>\n",
              "      <td>0.165556</td>\n",
              "      <td>-0.011442</td>\n",
              "      <td>0.070269</td>\n",
              "      <td>0.343623</td>\n",
              "      <td>0.498201</td>\n",
              "      <td>0.309463</td>\n",
              "      <td>0.151145</td>\n",
              "      <td>0.022003</td>\n",
              "      <td>-0.157906</td>\n",
              "      <td>-0.026198</td>\n",
              "      <td>0.137232</td>\n",
              "    </tr>\n",
              "    <tr>\n",
              "      <th>bathrooms</th>\n",
              "      <td>0.465780</td>\n",
              "      <td>0.509525</td>\n",
              "      <td>1.000000</td>\n",
              "      <td>0.727434</td>\n",
              "      <td>0.032226</td>\n",
              "      <td>0.510148</td>\n",
              "      <td>0.047957</td>\n",
              "      <td>0.162037</td>\n",
              "      <td>0.628690</td>\n",
              "      <td>0.649115</td>\n",
              "      <td>0.270010</td>\n",
              "      <td>0.511330</td>\n",
              "      <td>0.056808</td>\n",
              "      <td>-0.197507</td>\n",
              "      <td>0.009804</td>\n",
              "      <td>0.215655</td>\n",
              "    </tr>\n",
              "    <tr>\n",
              "      <th>sqft_living_area</th>\n",
              "      <td>0.646052</td>\n",
              "      <td>0.612973</td>\n",
              "      <td>0.727434</td>\n",
              "      <td>1.000000</td>\n",
              "      <td>0.251296</td>\n",
              "      <td>0.347513</td>\n",
              "      <td>0.079434</td>\n",
              "      <td>0.266444</td>\n",
              "      <td>0.721773</td>\n",
              "      <td>0.846614</td>\n",
              "      <td>0.447988</td>\n",
              "      <td>0.304807</td>\n",
              "      <td>0.065230</td>\n",
              "      <td>-0.182433</td>\n",
              "      <td>0.042789</td>\n",
              "      <td>0.214366</td>\n",
              "    </tr>\n",
              "    <tr>\n",
              "      <th>sqft_plot</th>\n",
              "      <td>0.110442</td>\n",
              "      <td>0.180870</td>\n",
              "      <td>0.032226</td>\n",
              "      <td>0.251296</td>\n",
              "      <td>1.000000</td>\n",
              "      <td>-0.263019</td>\n",
              "      <td>0.115858</td>\n",
              "      <td>0.136176</td>\n",
              "      <td>0.123032</td>\n",
              "      <td>0.208460</td>\n",
              "      <td>0.119786</td>\n",
              "      <td>-0.027124</td>\n",
              "      <td>0.022941</td>\n",
              "      <td>-0.230878</td>\n",
              "      <td>-0.111924</td>\n",
              "      <td>0.229435</td>\n",
              "    </tr>\n",
              "    <tr>\n",
              "      <th>floors</th>\n",
              "      <td>0.250055</td>\n",
              "      <td>0.165556</td>\n",
              "      <td>0.510148</td>\n",
              "      <td>0.347513</td>\n",
              "      <td>-0.263019</td>\n",
              "      <td>1.000000</td>\n",
              "      <td>0.022212</td>\n",
              "      <td>0.020463</td>\n",
              "      <td>0.459956</td>\n",
              "      <td>0.541793</td>\n",
              "      <td>-0.260226</td>\n",
              "      <td>0.493502</td>\n",
              "      <td>0.012427</td>\n",
              "      <td>-0.057180</td>\n",
              "      <td>0.037187</td>\n",
              "      <td>0.124264</td>\n",
              "    </tr>\n",
              "    <tr>\n",
              "      <th>waterfront</th>\n",
              "      <td>0.247941</td>\n",
              "      <td>-0.011442</td>\n",
              "      <td>0.047957</td>\n",
              "      <td>0.079434</td>\n",
              "      <td>0.115858</td>\n",
              "      <td>0.022212</td>\n",
              "      <td>1.000000</td>\n",
              "      <td>0.390594</td>\n",
              "      <td>0.072374</td>\n",
              "      <td>0.049006</td>\n",
              "      <td>0.066233</td>\n",
              "      <td>-0.023412</td>\n",
              "      <td>0.078958</td>\n",
              "      <td>0.031481</td>\n",
              "      <td>-0.008571</td>\n",
              "      <td>-0.025829</td>\n",
              "    </tr>\n",
              "    <tr>\n",
              "      <th>view</th>\n",
              "      <td>0.404456</td>\n",
              "      <td>0.070269</td>\n",
              "      <td>0.162037</td>\n",
              "      <td>0.266444</td>\n",
              "      <td>0.136176</td>\n",
              "      <td>0.020463</td>\n",
              "      <td>0.390594</td>\n",
              "      <td>1.000000</td>\n",
              "      <td>0.240664</td>\n",
              "      <td>0.136748</td>\n",
              "      <td>0.268583</td>\n",
              "      <td>-0.069760</td>\n",
              "      <td>0.107218</td>\n",
              "      <td>0.104946</td>\n",
              "      <td>0.028233</td>\n",
              "      <td>-0.097826</td>\n",
              "    </tr>\n",
              "    <tr>\n",
              "      <th>grade</th>\n",
              "      <td>0.641684</td>\n",
              "      <td>0.343623</td>\n",
              "      <td>0.628690</td>\n",
              "      <td>0.721773</td>\n",
              "      <td>0.123032</td>\n",
              "      <td>0.459956</td>\n",
              "      <td>0.072374</td>\n",
              "      <td>0.240664</td>\n",
              "      <td>1.000000</td>\n",
              "      <td>0.709422</td>\n",
              "      <td>0.158115</td>\n",
              "      <td>0.440892</td>\n",
              "      <td>0.023045</td>\n",
              "      <td>-0.169357</td>\n",
              "      <td>0.108518</td>\n",
              "      <td>0.172824</td>\n",
              "    </tr>\n",
              "    <tr>\n",
              "      <th>sqft_above_ground</th>\n",
              "      <td>0.523873</td>\n",
              "      <td>0.498201</td>\n",
              "      <td>0.649115</td>\n",
              "      <td>0.846614</td>\n",
              "      <td>0.208460</td>\n",
              "      <td>0.541793</td>\n",
              "      <td>0.049006</td>\n",
              "      <td>0.136748</td>\n",
              "      <td>0.709422</td>\n",
              "      <td>1.000000</td>\n",
              "      <td>-0.096541</td>\n",
              "      <td>0.430430</td>\n",
              "      <td>0.029239</td>\n",
              "      <td>-0.261363</td>\n",
              "      <td>-0.028084</td>\n",
              "      <td>0.341601</td>\n",
              "    </tr>\n",
              "    <tr>\n",
              "      <th>sqft_basement</th>\n",
              "      <td>0.328201</td>\n",
              "      <td>0.309463</td>\n",
              "      <td>0.270010</td>\n",
              "      <td>0.447988</td>\n",
              "      <td>0.119786</td>\n",
              "      <td>-0.260226</td>\n",
              "      <td>0.066233</td>\n",
              "      <td>0.268583</td>\n",
              "      <td>0.158115</td>\n",
              "      <td>-0.096541</td>\n",
              "      <td>1.000000</td>\n",
              "      <td>-0.153020</td>\n",
              "      <td>0.072875</td>\n",
              "      <td>0.097873</td>\n",
              "      <td>0.127202</td>\n",
              "      <td>-0.172940</td>\n",
              "    </tr>\n",
              "    <tr>\n",
              "      <th>year_built</th>\n",
              "      <td>0.002043</td>\n",
              "      <td>0.151145</td>\n",
              "      <td>0.511330</td>\n",
              "      <td>0.304807</td>\n",
              "      <td>-0.027124</td>\n",
              "      <td>0.493502</td>\n",
              "      <td>-0.023412</td>\n",
              "      <td>-0.069760</td>\n",
              "      <td>0.440892</td>\n",
              "      <td>0.430430</td>\n",
              "      <td>-0.153020</td>\n",
              "      <td>1.000000</td>\n",
              "      <td>-0.221715</td>\n",
              "      <td>-0.344633</td>\n",
              "      <td>-0.166953</td>\n",
              "      <td>0.413635</td>\n",
              "    </tr>\n",
              "    <tr>\n",
              "      <th>year_renovated</th>\n",
              "      <td>0.148263</td>\n",
              "      <td>0.022003</td>\n",
              "      <td>0.056808</td>\n",
              "      <td>0.065230</td>\n",
              "      <td>0.022941</td>\n",
              "      <td>0.012427</td>\n",
              "      <td>0.078958</td>\n",
              "      <td>0.107218</td>\n",
              "      <td>0.023045</td>\n",
              "      <td>0.029239</td>\n",
              "      <td>0.072875</td>\n",
              "      <td>-0.221715</td>\n",
              "      <td>1.000000</td>\n",
              "      <td>0.068335</td>\n",
              "      <td>0.037941</td>\n",
              "      <td>-0.073553</td>\n",
              "    </tr>\n",
              "    <tr>\n",
              "      <th>zipcode</th>\n",
              "      <td>-0.014549</td>\n",
              "      <td>-0.157906</td>\n",
              "      <td>-0.197507</td>\n",
              "      <td>-0.182433</td>\n",
              "      <td>-0.230878</td>\n",
              "      <td>-0.057180</td>\n",
              "      <td>0.031481</td>\n",
              "      <td>0.104946</td>\n",
              "      <td>-0.169357</td>\n",
              "      <td>-0.261363</td>\n",
              "      <td>0.097873</td>\n",
              "      <td>-0.344633</td>\n",
              "      <td>0.068335</td>\n",
              "      <td>1.000000</td>\n",
              "      <td>0.274011</td>\n",
              "      <td>-0.571262</td>\n",
              "    </tr>\n",
              "    <tr>\n",
              "      <th>latitude</th>\n",
              "      <td>0.354958</td>\n",
              "      <td>-0.026198</td>\n",
              "      <td>0.009804</td>\n",
              "      <td>0.042789</td>\n",
              "      <td>-0.111924</td>\n",
              "      <td>0.037187</td>\n",
              "      <td>-0.008571</td>\n",
              "      <td>0.028233</td>\n",
              "      <td>0.108518</td>\n",
              "      <td>-0.028084</td>\n",
              "      <td>0.127202</td>\n",
              "      <td>-0.166953</td>\n",
              "      <td>0.037941</td>\n",
              "      <td>0.274011</td>\n",
              "      <td>1.000000</td>\n",
              "      <td>-0.153194</td>\n",
              "    </tr>\n",
              "    <tr>\n",
              "      <th>longitude</th>\n",
              "      <td>-0.014231</td>\n",
              "      <td>0.137232</td>\n",
              "      <td>0.215655</td>\n",
              "      <td>0.214366</td>\n",
              "      <td>0.229435</td>\n",
              "      <td>0.124264</td>\n",
              "      <td>-0.025829</td>\n",
              "      <td>-0.097826</td>\n",
              "      <td>0.172824</td>\n",
              "      <td>0.341601</td>\n",
              "      <td>-0.172940</td>\n",
              "      <td>0.413635</td>\n",
              "      <td>-0.073553</td>\n",
              "      <td>-0.571262</td>\n",
              "      <td>-0.153194</td>\n",
              "      <td>1.000000</td>\n",
              "    </tr>\n",
              "  </tbody>\n",
              "</table>\n",
              "</div>"
            ],
            "text/plain": [
              "                      price  bedrooms  bathrooms  ...   zipcode  latitude  longitude\n",
              "price              1.000000  0.294558   0.465780  ... -0.014549  0.354958  -0.014231\n",
              "bedrooms           0.294558  1.000000   0.509525  ... -0.157906 -0.026198   0.137232\n",
              "bathrooms          0.465780  0.509525   1.000000  ... -0.197507  0.009804   0.215655\n",
              "sqft_living_area   0.646052  0.612973   0.727434  ... -0.182433  0.042789   0.214366\n",
              "sqft_plot          0.110442  0.180870   0.032226  ... -0.230878 -0.111924   0.229435\n",
              "floors             0.250055  0.165556   0.510148  ... -0.057180  0.037187   0.124264\n",
              "waterfront         0.247941 -0.011442   0.047957  ...  0.031481 -0.008571  -0.025829\n",
              "view               0.404456  0.070269   0.162037  ...  0.104946  0.028233  -0.097826\n",
              "grade              0.641684  0.343623   0.628690  ... -0.169357  0.108518   0.172824\n",
              "sqft_above_ground  0.523873  0.498201   0.649115  ... -0.261363 -0.028084   0.341601\n",
              "sqft_basement      0.328201  0.309463   0.270010  ...  0.097873  0.127202  -0.172940\n",
              "year_built         0.002043  0.151145   0.511330  ... -0.344633 -0.166953   0.413635\n",
              "year_renovated     0.148263  0.022003   0.056808  ...  0.068335  0.037941  -0.073553\n",
              "zipcode           -0.014549 -0.157906  -0.197507  ...  1.000000  0.274011  -0.571262\n",
              "latitude           0.354958 -0.026198   0.009804  ...  0.274011  1.000000  -0.153194\n",
              "longitude         -0.014231  0.137232   0.215655  ... -0.571262 -0.153194   1.000000\n",
              "\n",
              "[16 rows x 16 columns]"
            ]
          },
          "metadata": {},
          "execution_count": 455
        }
      ]
    },
    {
      "cell_type": "code",
      "metadata": {
        "colab": {
          "base_uri": "https://localhost:8080/",
          "height": 680
        },
        "id": "kr0S_HXZJaeV",
        "outputId": "128b75a7-51ed-4fae-acda-7ac5836c3bec"
      },
      "source": [
        "# Creating a correlation heat map for the columns\n",
        "plt.figure(figsize=(16,10))\n",
        "sns.heatmap(data.corr(),annot=True,cmap=\"Reds\",fmt=\".2f\");\n",
        "plt.show()"
      ],
      "execution_count": 456,
      "outputs": [
        {
          "output_type": "display_data",
          "data": {
            "image/png": "[encoded data removed]",
            "text/plain": [
              "<Figure size 1152x720 with 2 Axes>"
            ]
          },
          "metadata": {
            "needs_background": "light"
          }
        }
      ]
    },
    {
      "cell_type": "markdown",
      "metadata": {
        "id": "fR_45ii3Lej0"
      },
      "source": [
        "* Price has a strong positive correlation square foot living area and grade and price is positively correlated with bathrooms and square foot above ground\n",
        "* Bedrooms has a strong positive correlation with price and positive relation with bathrooms and square foot above ground\n",
        "* Bathrooms has a strong positive correlation with square foot living area, grade and square foot above ground and bedrooms has a positive relation with price, bedrooms, floors and year built\n",
        "* Square foot living area has a strong positive correlation with price, bedrooms, bathrooms, grade and square foot above ground. It has a positive correlation with square foot basement\n",
        "* Floors has a positive correlation with bathrooms, grade, square foot above ground and year built\n",
        "* View has a positive correlation with price\n",
        "* Grade has a strong positive correlation with price, bathrooms, square foot living area and square foot above ground. Grade has a positive correlation with floors and year built\n",
        "* Square foot above ground has a strong positive correlation with bathroom, square foot living area and grade. It has a possitive correlation with price, bedrooms, floors and year built\n",
        "* Square foot basement has a positive correlation with square foot living area\n",
        "* Year built has a positive correlation with \n"
      ]
    },
    {
      "cell_type": "markdown",
      "metadata": {
        "id": "VbW42-gRJdIn"
      },
      "source": [
        "## Data Preprocessing"
      ]
    },
    {
      "cell_type": "code",
      "metadata": {
        "colab": {
          "base_uri": "https://localhost:8080/",
          "height": 571
        },
        "id": "FO9_eH4qJsx5",
        "outputId": "9c644c4d-24cd-42e5-9c2d-a5967cf986b6"
      },
      "source": [
        "# Detecting multicolinierity with VIF scores\n",
        "pd.DataFrame(np.linalg.inv(correlations.values), index = correlations.index, columns=correlations.columns)\n"
      ],
      "execution_count": 457,
      "outputs": [
        {
          "output_type": "execute_result",
          "data": {
            "text/html": [
              "<div>\n",
              "<style scoped>\n",
              "    .dataframe tbody tr th:only-of-type {\n",
              "        vertical-align: middle;\n",
              "    }\n",
              "\n",
              "    .dataframe tbody tr th {\n",
              "        vertical-align: top;\n",
              "    }\n",
              "\n",
              "    .dataframe thead th {\n",
              "        text-align: right;\n",
              "    }\n",
              "</style>\n",
              "<table border=\"1\" class=\"dataframe\">\n",
              "  <thead>\n",
              "    <tr style=\"text-align: right;\">\n",
              "      <th></th>\n",
              "      <th>price</th>\n",
              "      <th>bedrooms</th>\n",
              "      <th>bathrooms</th>\n",
              "      <th>sqft_living_area</th>\n",
              "      <th>sqft_plot</th>\n",
              "      <th>floors</th>\n",
              "      <th>waterfront</th>\n",
              "      <th>view</th>\n",
              "      <th>grade</th>\n",
              "      <th>sqft_above_ground</th>\n",
              "      <th>sqft_basement</th>\n",
              "      <th>year_built</th>\n",
              "      <th>year_renovated</th>\n",
              "      <th>zipcode</th>\n",
              "      <th>latitude</th>\n",
              "      <th>longitude</th>\n",
              "    </tr>\n",
              "  </thead>\n",
              "  <tbody>\n",
              "    <tr>\n",
              "      <th>price</th>\n",
              "      <td>3.223136</td>\n",
              "      <td>0.238075</td>\n",
              "      <td>-0.258775</td>\n",
              "      <td>-9.518186e-01</td>\n",
              "      <td>0.128557</td>\n",
              "      <td>-0.066473</td>\n",
              "      <td>-0.429064</td>\n",
              "      <td>-0.437878</td>\n",
              "      <td>-1.219729</td>\n",
              "      <td>-2.727507e-01</td>\n",
              "      <td>-1.108178e-01</td>\n",
              "      <td>0.902911</td>\n",
              "      <td>-0.061615</td>\n",
              "      <td>0.311638</td>\n",
              "      <td>-0.839108</td>\n",
              "      <td>0.153366</td>\n",
              "    </tr>\n",
              "    <tr>\n",
              "      <th>bedrooms</th>\n",
              "      <td>0.238075</td>\n",
              "      <td>1.772520</td>\n",
              "      <td>-0.465189</td>\n",
              "      <td>-6.487345e-01</td>\n",
              "      <td>-0.052297</td>\n",
              "      <td>0.059156</td>\n",
              "      <td>0.019446</td>\n",
              "      <td>0.111941</td>\n",
              "      <td>0.245500</td>\n",
              "      <td>-4.854896e-01</td>\n",
              "      <td>-2.734667e-01</td>\n",
              "      <td>0.227050</td>\n",
              "      <td>0.057946</td>\n",
              "      <td>0.103742</td>\n",
              "      <td>-0.005581</td>\n",
              "      <td>0.061219</td>\n",
              "    </tr>\n",
              "    <tr>\n",
              "      <th>bathrooms</th>\n",
              "      <td>-0.258775</td>\n",
              "      <td>-0.465189</td>\n",
              "      <td>3.159465</td>\n",
              "      <td>-1.941240e+00</td>\n",
              "      <td>0.172312</td>\n",
              "      <td>-0.655098</td>\n",
              "      <td>0.023003</td>\n",
              "      <td>-0.006832</td>\n",
              "      <td>-0.119400</td>\n",
              "      <td>7.883064e-01</td>\n",
              "      <td>1.013657e-02</td>\n",
              "      <td>-0.934467</td>\n",
              "      <td>-0.235521</td>\n",
              "      <td>0.062581</td>\n",
              "      <td>0.045353</td>\n",
              "      <td>0.001209</td>\n",
              "    </tr>\n",
              "    <tr>\n",
              "      <th>sqft_living_area</th>\n",
              "      <td>-0.949330</td>\n",
              "      <td>-0.653172</td>\n",
              "      <td>-1.937383</td>\n",
              "      <td>-1.848561e+13</td>\n",
              "      <td>-0.366146</td>\n",
              "      <td>0.830432</td>\n",
              "      <td>0.605023</td>\n",
              "      <td>-1.131974</td>\n",
              "      <td>-0.644417</td>\n",
              "      <td>1.660443e+13</td>\n",
              "      <td>9.884337e+12</td>\n",
              "      <td>0.322005</td>\n",
              "      <td>0.167768</td>\n",
              "      <td>-0.114867</td>\n",
              "      <td>0.041990</td>\n",
              "      <td>0.096894</td>\n",
              "    </tr>\n",
              "    <tr>\n",
              "      <th>sqft_plot</th>\n",
              "      <td>0.128557</td>\n",
              "      <td>-0.052297</td>\n",
              "      <td>0.172312</td>\n",
              "      <td>-3.644465e-01</td>\n",
              "      <td>1.425453</td>\n",
              "      <td>0.625511</td>\n",
              "      <td>-0.134500</td>\n",
              "      <td>-0.111544</td>\n",
              "      <td>-0.111658</td>\n",
              "      <td>-2.999944e-01</td>\n",
              "      <td>7.210595e-02</td>\n",
              "      <td>0.063093</td>\n",
              "      <td>-0.026254</td>\n",
              "      <td>0.152572</td>\n",
              "      <td>0.043510</td>\n",
              "      <td>-0.169088</td>\n",
              "    </tr>\n",
              "    <tr>\n",
              "      <th>floors</th>\n",
              "      <td>-0.066473</td>\n",
              "      <td>0.059156</td>\n",
              "      <td>-0.655098</td>\n",
              "      <td>8.306235e-01</td>\n",
              "      <td>0.625511</td>\n",
              "      <td>2.345088</td>\n",
              "      <td>-0.063952</td>\n",
              "      <td>-0.019347</td>\n",
              "      <td>-0.170415</td>\n",
              "      <td>-1.398410e+00</td>\n",
              "      <td>2.281009e-01</td>\n",
              "      <td>-0.518526</td>\n",
              "      <td>-0.105356</td>\n",
              "      <td>-0.156741</td>\n",
              "      <td>-0.085099</td>\n",
              "      <td>0.166620</td>\n",
              "    </tr>\n",
              "    <tr>\n",
              "      <th>waterfront</th>\n",
              "      <td>-0.429064</td>\n",
              "      <td>0.019446</td>\n",
              "      <td>0.023003</td>\n",
              "      <td>6.049850e-01</td>\n",
              "      <td>-0.134500</td>\n",
              "      <td>-0.063952</td>\n",
              "      <td>1.253893</td>\n",
              "      <td>-0.410269</td>\n",
              "      <td>0.208537</td>\n",
              "      <td>-3.677509e-01</td>\n",
              "      <td>-2.153548e-01</td>\n",
              "      <td>-0.134149</td>\n",
              "      <td>-0.039421</td>\n",
              "      <td>-0.043358</td>\n",
              "      <td>0.119638</td>\n",
              "      <td>-0.013870</td>\n",
              "    </tr>\n",
              "    <tr>\n",
              "      <th>view</th>\n",
              "      <td>-0.437878</td>\n",
              "      <td>0.111941</td>\n",
              "      <td>-0.006832</td>\n",
              "      <td>-1.131220e+00</td>\n",
              "      <td>-0.111544</td>\n",
              "      <td>-0.019347</td>\n",
              "      <td>-0.410269</td>\n",
              "      <td>1.448103</td>\n",
              "      <td>-0.104212</td>\n",
              "      <td>1.034875e+00</td>\n",
              "      <td>3.851263e-01</td>\n",
              "      <td>0.049698</td>\n",
              "      <td>-0.022598</td>\n",
              "      <td>-0.169961</td>\n",
              "      <td>0.201470</td>\n",
              "      <td>0.024044</td>\n",
              "    </tr>\n",
              "    <tr>\n",
              "      <th>grade</th>\n",
              "      <td>-1.219729</td>\n",
              "      <td>0.245500</td>\n",
              "      <td>-0.119400</td>\n",
              "      <td>-6.395834e-01</td>\n",
              "      <td>-0.111658</td>\n",
              "      <td>-0.170415</td>\n",
              "      <td>0.208537</td>\n",
              "      <td>-0.104212</td>\n",
              "      <td>3.219588</td>\n",
              "      <td>-7.093990e-01</td>\n",
              "      <td>-5.141254e-02</td>\n",
              "      <td>-0.908262</td>\n",
              "      <td>-0.012945</td>\n",
              "      <td>0.035725</td>\n",
              "      <td>-0.023135</td>\n",
              "      <td>0.222523</td>\n",
              "    </tr>\n",
              "    <tr>\n",
              "      <th>sqft_above_ground</th>\n",
              "      <td>-0.272070</td>\n",
              "      <td>-0.484060</td>\n",
              "      <td>0.787524</td>\n",
              "      <td>1.660443e+13</td>\n",
              "      <td>-0.298625</td>\n",
              "      <td>-1.398698</td>\n",
              "      <td>-0.367795</td>\n",
              "      <td>1.035655</td>\n",
              "      <td>-0.705373</td>\n",
              "      <td>-1.491469e+13</td>\n",
              "      <td>-8.878462e+12</td>\n",
              "      <td>-0.192434</td>\n",
              "      <td>-0.118787</td>\n",
              "      <td>-0.051780</td>\n",
              "      <td>0.363295</td>\n",
              "      <td>-0.619088</td>\n",
              "    </tr>\n",
              "    <tr>\n",
              "      <th>sqft_basement</th>\n",
              "      <td>-0.111022</td>\n",
              "      <td>-0.272026</td>\n",
              "      <td>0.010314</td>\n",
              "      <td>9.884337e+12</td>\n",
              "      <td>0.073070</td>\n",
              "      <td>0.228355</td>\n",
              "      <td>-0.215348</td>\n",
              "      <td>0.385468</td>\n",
              "      <td>-0.048793</td>\n",
              "      <td>-8.878462e+12</td>\n",
              "      <td>-5.285198e+12</td>\n",
              "      <td>-0.045994</td>\n",
              "      <td>-0.062622</td>\n",
              "      <td>-0.066353</td>\n",
              "      <td>0.035402</td>\n",
              "      <td>0.033091</td>\n",
              "    </tr>\n",
              "    <tr>\n",
              "      <th>year_built</th>\n",
              "      <td>0.902911</td>\n",
              "      <td>0.227050</td>\n",
              "      <td>-0.934467</td>\n",
              "      <td>3.208912e-01</td>\n",
              "      <td>0.063093</td>\n",
              "      <td>-0.518526</td>\n",
              "      <td>-0.134149</td>\n",
              "      <td>0.049698</td>\n",
              "      <td>-0.908262</td>\n",
              "      <td>-1.914330e-01</td>\n",
              "      <td>-4.539837e-02</td>\n",
              "      <td>2.454985</td>\n",
              "      <td>0.425106</td>\n",
              "      <td>0.249958</td>\n",
              "      <td>0.059642</td>\n",
              "      <td>-0.451978</td>\n",
              "    </tr>\n",
              "    <tr>\n",
              "      <th>year_renovated</th>\n",
              "      <td>-0.061615</td>\n",
              "      <td>0.057946</td>\n",
              "      <td>-0.235521</td>\n",
              "      <td>1.677980e-01</td>\n",
              "      <td>-0.026254</td>\n",
              "      <td>-0.105356</td>\n",
              "      <td>-0.039421</td>\n",
              "      <td>-0.022598</td>\n",
              "      <td>-0.012945</td>\n",
              "      <td>-1.188139e-01</td>\n",
              "      <td>-6.263821e-02</td>\n",
              "      <td>0.425106</td>\n",
              "      <td>1.116245</td>\n",
              "      <td>-0.007867</td>\n",
              "      <td>0.051012</td>\n",
              "      <td>-0.036544</td>\n",
              "    </tr>\n",
              "    <tr>\n",
              "      <th>zipcode</th>\n",
              "      <td>0.311638</td>\n",
              "      <td>0.103742</td>\n",
              "      <td>0.062581</td>\n",
              "      <td>-1.134518e-01</td>\n",
              "      <td>0.152572</td>\n",
              "      <td>-0.156741</td>\n",
              "      <td>-0.043358</td>\n",
              "      <td>-0.169961</td>\n",
              "      <td>0.035725</td>\n",
              "      <td>-5.305123e-02</td>\n",
              "      <td>-6.711010e-02</td>\n",
              "      <td>0.249958</td>\n",
              "      <td>-0.007867</td>\n",
              "      <td>1.686056</td>\n",
              "      <td>-0.375194</td>\n",
              "      <td>0.769823</td>\n",
              "    </tr>\n",
              "    <tr>\n",
              "      <th>latitude</th>\n",
              "      <td>-0.839108</td>\n",
              "      <td>-0.005581</td>\n",
              "      <td>0.045353</td>\n",
              "      <td>4.204886e-02</td>\n",
              "      <td>0.043510</td>\n",
              "      <td>-0.085099</td>\n",
              "      <td>0.119638</td>\n",
              "      <td>0.201470</td>\n",
              "      <td>-0.023135</td>\n",
              "      <td>3.632418e-01</td>\n",
              "      <td>3.537086e-02</td>\n",
              "      <td>0.059642</td>\n",
              "      <td>0.051012</td>\n",
              "      <td>-0.375194</td>\n",
              "      <td>1.396130</td>\n",
              "      <td>-0.141921</td>\n",
              "    </tr>\n",
              "    <tr>\n",
              "      <th>longitude</th>\n",
              "      <td>0.153366</td>\n",
              "      <td>0.061219</td>\n",
              "      <td>0.001209</td>\n",
              "      <td>9.856928e-02</td>\n",
              "      <td>-0.169088</td>\n",
              "      <td>0.166620</td>\n",
              "      <td>-0.013870</td>\n",
              "      <td>0.024044</td>\n",
              "      <td>0.222523</td>\n",
              "      <td>-6.205929e-01</td>\n",
              "      <td>3.219554e-02</td>\n",
              "      <td>-0.451978</td>\n",
              "      <td>-0.036544</td>\n",
              "      <td>0.769823</td>\n",
              "      <td>-0.141921</td>\n",
              "      <td>1.773875</td>\n",
              "    </tr>\n",
              "  </tbody>\n",
              "</table>\n",
              "</div>"
            ],
            "text/plain": [
              "                      price  bedrooms  bathrooms  ...   zipcode  latitude  longitude\n",
              "price              3.223136  0.238075  -0.258775  ...  0.311638 -0.839108   0.153366\n",
              "bedrooms           0.238075  1.772520  -0.465189  ...  0.103742 -0.005581   0.061219\n",
              "bathrooms         -0.258775 -0.465189   3.159465  ...  0.062581  0.045353   0.001209\n",
              "sqft_living_area  -0.949330 -0.653172  -1.937383  ... -0.114867  0.041990   0.096894\n",
              "sqft_plot          0.128557 -0.052297   0.172312  ...  0.152572  0.043510  -0.169088\n",
              "floors            -0.066473  0.059156  -0.655098  ... -0.156741 -0.085099   0.166620\n",
              "waterfront        -0.429064  0.019446   0.023003  ... -0.043358  0.119638  -0.013870\n",
              "view              -0.437878  0.111941  -0.006832  ... -0.169961  0.201470   0.024044\n",
              "grade             -1.219729  0.245500  -0.119400  ...  0.035725 -0.023135   0.222523\n",
              "sqft_above_ground -0.272070 -0.484060   0.787524  ... -0.051780  0.363295  -0.619088\n",
              "sqft_basement     -0.111022 -0.272026   0.010314  ... -0.066353  0.035402   0.033091\n",
              "year_built         0.902911  0.227050  -0.934467  ...  0.249958  0.059642  -0.451978\n",
              "year_renovated    -0.061615  0.057946  -0.235521  ... -0.007867  0.051012  -0.036544\n",
              "zipcode            0.311638  0.103742   0.062581  ...  1.686056 -0.375194   0.769823\n",
              "latitude          -0.839108 -0.005581   0.045353  ... -0.375194  1.396130  -0.141921\n",
              "longitude          0.153366  0.061219   0.001209  ...  0.769823 -0.141921   1.773875\n",
              "\n",
              "[16 rows x 16 columns]"
            ]
          },
          "metadata": {},
          "execution_count": 457
        }
      ]
    },
    {
      "cell_type": "markdown",
      "metadata": {
        "id": "amIH_ko0JfCb"
      },
      "source": [
        "Square foot above ground and square foot living area has high VIF scores so the columns will be removed "
      ]
    },
    {
      "cell_type": "code",
      "metadata": {
        "colab": {
          "base_uri": "https://localhost:8080/",
          "height": 508
        },
        "id": "Fy7p55FHJtYk",
        "outputId": "bd61dff4-fc4a-42fd-fe87-ef3ee28de687"
      },
      "source": [
        "# Dropping the correlated columns and running the VIF test again\n",
        "revised = data.drop(columns=['sqft_above_ground',\t'sqft_basement'])\n",
        "\n",
        "# Running VIF score test again\n",
        "correlations = revised.corr()\n",
        "pd.DataFrame(np.linalg.inv(correlations.values), index = correlations.index, columns=correlations.columns)\n",
        "\n"
      ],
      "execution_count": 458,
      "outputs": [
        {
          "output_type": "execute_result",
          "data": {
            "text/html": [
              "<div>\n",
              "<style scoped>\n",
              "    .dataframe tbody tr th:only-of-type {\n",
              "        vertical-align: middle;\n",
              "    }\n",
              "\n",
              "    .dataframe tbody tr th {\n",
              "        vertical-align: top;\n",
              "    }\n",
              "\n",
              "    .dataframe thead th {\n",
              "        text-align: right;\n",
              "    }\n",
              "</style>\n",
              "<table border=\"1\" class=\"dataframe\">\n",
              "  <thead>\n",
              "    <tr style=\"text-align: right;\">\n",
              "      <th></th>\n",
              "      <th>price</th>\n",
              "      <th>bedrooms</th>\n",
              "      <th>bathrooms</th>\n",
              "      <th>sqft_living_area</th>\n",
              "      <th>sqft_plot</th>\n",
              "      <th>floors</th>\n",
              "      <th>waterfront</th>\n",
              "      <th>view</th>\n",
              "      <th>grade</th>\n",
              "      <th>year_built</th>\n",
              "      <th>year_renovated</th>\n",
              "      <th>zipcode</th>\n",
              "      <th>latitude</th>\n",
              "      <th>longitude</th>\n",
              "    </tr>\n",
              "  </thead>\n",
              "  <tbody>\n",
              "    <tr>\n",
              "      <th>price</th>\n",
              "      <td>3.221887</td>\n",
              "      <td>0.237680</td>\n",
              "      <td>-0.247533</td>\n",
              "      <td>-1.218277</td>\n",
              "      <td>0.122406</td>\n",
              "      <td>-0.092489</td>\n",
              "      <td>-0.429152</td>\n",
              "      <td>-0.432213</td>\n",
              "      <td>-1.228829</td>\n",
              "      <td>0.901230</td>\n",
              "      <td>-0.061814</td>\n",
              "      <td>0.312509</td>\n",
              "      <td>-0.834673</td>\n",
              "      <td>0.143518</td>\n",
              "    </tr>\n",
              "    <tr>\n",
              "      <th>bedrooms</th>\n",
              "      <td>0.237680</td>\n",
              "      <td>1.772395</td>\n",
              "      <td>-0.461629</td>\n",
              "      <td>-1.181325</td>\n",
              "      <td>-0.054244</td>\n",
              "      <td>0.050920</td>\n",
              "      <td>0.019418</td>\n",
              "      <td>0.113735</td>\n",
              "      <td>0.242619</td>\n",
              "      <td>0.226517</td>\n",
              "      <td>0.057883</td>\n",
              "      <td>0.104017</td>\n",
              "      <td>-0.004177</td>\n",
              "      <td>0.058102</td>\n",
              "    </tr>\n",
              "    <tr>\n",
              "      <th>bathrooms</th>\n",
              "      <td>-0.247533</td>\n",
              "      <td>-0.461629</td>\n",
              "      <td>3.058274</td>\n",
              "      <td>-1.366201</td>\n",
              "      <td>0.227673</td>\n",
              "      <td>-0.420932</td>\n",
              "      <td>0.023796</td>\n",
              "      <td>-0.057824</td>\n",
              "      <td>-0.037494</td>\n",
              "      <td>-0.919336</td>\n",
              "      <td>-0.233736</td>\n",
              "      <td>0.054739</td>\n",
              "      <td>0.005436</td>\n",
              "      <td>0.089850</td>\n",
              "    </tr>\n",
              "    <tr>\n",
              "      <th>sqft_living_area</th>\n",
              "      <td>-1.218277</td>\n",
              "      <td>-1.181325</td>\n",
              "      <td>-1.366201</td>\n",
              "      <td>4.488905</td>\n",
              "      <td>-0.531429</td>\n",
              "      <td>-0.019626</td>\n",
              "      <td>0.197954</td>\n",
              "      <td>-0.132966</td>\n",
              "      <td>-1.182376</td>\n",
              "      <td>0.153462</td>\n",
              "      <td>0.040915</td>\n",
              "      <td>-0.196193</td>\n",
              "      <td>0.325906</td>\n",
              "      <td>-0.324665</td>\n",
              "    </tr>\n",
              "    <tr>\n",
              "      <th>sqft_plot</th>\n",
              "      <td>0.122406</td>\n",
              "      <td>-0.054244</td>\n",
              "      <td>0.227673</td>\n",
              "      <td>-0.531429</td>\n",
              "      <td>1.395165</td>\n",
              "      <td>0.497400</td>\n",
              "      <td>-0.134934</td>\n",
              "      <td>-0.083646</td>\n",
              "      <td>-0.156468</td>\n",
              "      <td>0.054815</td>\n",
              "      <td>-0.027231</td>\n",
              "      <td>0.156862</td>\n",
              "      <td>0.065348</td>\n",
              "      <td>-0.217584</td>\n",
              "    </tr>\n",
              "    <tr>\n",
              "      <th>floors</th>\n",
              "      <td>-0.092489</td>\n",
              "      <td>0.050920</td>\n",
              "      <td>-0.420932</td>\n",
              "      <td>-0.019626</td>\n",
              "      <td>0.497400</td>\n",
              "      <td>1.803208</td>\n",
              "      <td>-0.065787</td>\n",
              "      <td>0.098654</td>\n",
              "      <td>-0.359952</td>\n",
              "      <td>-0.553541</td>\n",
              "      <td>-0.109487</td>\n",
              "      <td>-0.138595</td>\n",
              "      <td>0.007274</td>\n",
              "      <td>-0.038504</td>\n",
              "    </tr>\n",
              "    <tr>\n",
              "      <th>waterfront</th>\n",
              "      <td>-0.429152</td>\n",
              "      <td>0.019418</td>\n",
              "      <td>0.023796</td>\n",
              "      <td>0.197954</td>\n",
              "      <td>-0.134934</td>\n",
              "      <td>-0.065787</td>\n",
              "      <td>1.253887</td>\n",
              "      <td>-0.409869</td>\n",
              "      <td>0.207895</td>\n",
              "      <td>-0.134267</td>\n",
              "      <td>-0.039435</td>\n",
              "      <td>-0.043297</td>\n",
              "      <td>0.119951</td>\n",
              "      <td>-0.014565</td>\n",
              "    </tr>\n",
              "    <tr>\n",
              "      <th>view</th>\n",
              "      <td>-0.432213</td>\n",
              "      <td>0.113735</td>\n",
              "      <td>-0.057824</td>\n",
              "      <td>-0.132966</td>\n",
              "      <td>-0.083646</td>\n",
              "      <td>0.098654</td>\n",
              "      <td>-0.409869</td>\n",
              "      <td>1.422407</td>\n",
              "      <td>-0.062938</td>\n",
              "      <td>0.057323</td>\n",
              "      <td>-0.021698</td>\n",
              "      <td>-0.173913</td>\n",
              "      <td>0.181355</td>\n",
              "      <td>0.068712</td>\n",
              "    </tr>\n",
              "    <tr>\n",
              "      <th>grade</th>\n",
              "      <td>-1.228829</td>\n",
              "      <td>0.242619</td>\n",
              "      <td>-0.037494</td>\n",
              "      <td>-1.182376</td>\n",
              "      <td>-0.156468</td>\n",
              "      <td>-0.359952</td>\n",
              "      <td>0.207895</td>\n",
              "      <td>-0.062938</td>\n",
              "      <td>3.153293</td>\n",
              "      <td>-0.920510</td>\n",
              "      <td>-0.014390</td>\n",
              "      <td>0.042072</td>\n",
              "      <td>0.009174</td>\n",
              "      <td>0.150776</td>\n",
              "    </tr>\n",
              "    <tr>\n",
              "      <th>year_built</th>\n",
              "      <td>0.901230</td>\n",
              "      <td>0.226517</td>\n",
              "      <td>-0.919336</td>\n",
              "      <td>0.153462</td>\n",
              "      <td>0.054815</td>\n",
              "      <td>-0.553541</td>\n",
              "      <td>-0.134267</td>\n",
              "      <td>0.057323</td>\n",
              "      <td>-0.920510</td>\n",
              "      <td>2.452723</td>\n",
              "      <td>0.424839</td>\n",
              "      <td>0.251131</td>\n",
              "      <td>0.065611</td>\n",
              "      <td>-0.465233</td>\n",
              "    </tr>\n",
              "    <tr>\n",
              "      <th>year_renovated</th>\n",
              "      <td>-0.061814</td>\n",
              "      <td>0.057883</td>\n",
              "      <td>-0.233736</td>\n",
              "      <td>0.040915</td>\n",
              "      <td>-0.027231</td>\n",
              "      <td>-0.109487</td>\n",
              "      <td>-0.039435</td>\n",
              "      <td>-0.021698</td>\n",
              "      <td>-0.014390</td>\n",
              "      <td>0.424839</td>\n",
              "      <td>1.116214</td>\n",
              "      <td>-0.007729</td>\n",
              "      <td>0.051716</td>\n",
              "      <td>-0.038108</td>\n",
              "    </tr>\n",
              "    <tr>\n",
              "      <th>zipcode</th>\n",
              "      <td>0.312509</td>\n",
              "      <td>0.104017</td>\n",
              "      <td>0.054739</td>\n",
              "      <td>-0.196193</td>\n",
              "      <td>0.156862</td>\n",
              "      <td>-0.138595</td>\n",
              "      <td>-0.043297</td>\n",
              "      <td>-0.173913</td>\n",
              "      <td>0.042072</td>\n",
              "      <td>0.251131</td>\n",
              "      <td>-0.007729</td>\n",
              "      <td>1.685448</td>\n",
              "      <td>-0.378287</td>\n",
              "      <td>0.776692</td>\n",
              "    </tr>\n",
              "    <tr>\n",
              "      <th>latitude</th>\n",
              "      <td>-0.834673</td>\n",
              "      <td>-0.004177</td>\n",
              "      <td>0.005436</td>\n",
              "      <td>0.325906</td>\n",
              "      <td>0.065348</td>\n",
              "      <td>0.007274</td>\n",
              "      <td>0.119951</td>\n",
              "      <td>0.181355</td>\n",
              "      <td>0.009174</td>\n",
              "      <td>0.065611</td>\n",
              "      <td>0.051716</td>\n",
              "      <td>-0.378287</td>\n",
              "      <td>1.380383</td>\n",
              "      <td>-0.106954</td>\n",
              "    </tr>\n",
              "    <tr>\n",
              "      <th>longitude</th>\n",
              "      <td>0.143518</td>\n",
              "      <td>0.058102</td>\n",
              "      <td>0.089850</td>\n",
              "      <td>-0.324665</td>\n",
              "      <td>-0.217584</td>\n",
              "      <td>-0.038504</td>\n",
              "      <td>-0.014565</td>\n",
              "      <td>0.068712</td>\n",
              "      <td>0.150776</td>\n",
              "      <td>-0.465233</td>\n",
              "      <td>-0.038108</td>\n",
              "      <td>0.776692</td>\n",
              "      <td>-0.106954</td>\n",
              "      <td>1.696227</td>\n",
              "    </tr>\n",
              "  </tbody>\n",
              "</table>\n",
              "</div>"
            ],
            "text/plain": [
              "                     price  bedrooms  bathrooms  ...   zipcode  latitude  longitude\n",
              "price             3.221887  0.237680  -0.247533  ...  0.312509 -0.834673   0.143518\n",
              "bedrooms          0.237680  1.772395  -0.461629  ...  0.104017 -0.004177   0.058102\n",
              "bathrooms        -0.247533 -0.461629   3.058274  ...  0.054739  0.005436   0.089850\n",
              "sqft_living_area -1.218277 -1.181325  -1.366201  ... -0.196193  0.325906  -0.324665\n",
              "sqft_plot         0.122406 -0.054244   0.227673  ...  0.156862  0.065348  -0.217584\n",
              "floors           -0.092489  0.050920  -0.420932  ... -0.138595  0.007274  -0.038504\n",
              "waterfront       -0.429152  0.019418   0.023796  ... -0.043297  0.119951  -0.014565\n",
              "view             -0.432213  0.113735  -0.057824  ... -0.173913  0.181355   0.068712\n",
              "grade            -1.228829  0.242619  -0.037494  ...  0.042072  0.009174   0.150776\n",
              "year_built        0.901230  0.226517  -0.919336  ...  0.251131  0.065611  -0.465233\n",
              "year_renovated   -0.061814  0.057883  -0.233736  ... -0.007729  0.051716  -0.038108\n",
              "zipcode           0.312509  0.104017   0.054739  ...  1.685448 -0.378287   0.776692\n",
              "latitude         -0.834673 -0.004177   0.005436  ... -0.378287  1.380383  -0.106954\n",
              "longitude         0.143518  0.058102   0.089850  ...  0.776692 -0.106954   1.696227\n",
              "\n",
              "[14 rows x 14 columns]"
            ]
          },
          "metadata": {},
          "execution_count": 458
        }
      ]
    },
    {
      "cell_type": "markdown",
      "metadata": {
        "id": "RGUIMpw-KmvK"
      },
      "source": [
        "There is no multicollinerarity detected thus features and labels are ready"
      ]
    },
    {
      "cell_type": "code",
      "metadata": {
        "colab": {
          "base_uri": "https://localhost:8080/"
        },
        "id": "NZ6Eech-CWkI",
        "outputId": "5d46dfa7-fbf4-4d82-b3e8-89cf1a920bb2"
      },
      "source": [
        "# Column values for when we scale the dataset\n",
        "cols = revised.columns\n",
        "cols"
      ],
      "execution_count": 459,
      "outputs": [
        {
          "output_type": "execute_result",
          "data": {
            "text/plain": [
              "Index(['price', 'bedrooms', 'bathrooms', 'sqft_living_area', 'sqft_plot',\n",
              "       'floors', 'waterfront', 'view', 'grade', 'year_built', 'year_renovated',\n",
              "       'zipcode', 'latitude', 'longitude'],\n",
              "      dtype='object')"
            ]
          },
          "metadata": {},
          "execution_count": 459
        }
      ]
    },
    {
      "cell_type": "code",
      "metadata": {
        "id": "ZroYr19HJtVe"
      },
      "source": [
        "# Importing machine learning libraries\n",
        "from sklearn import metrics\n",
        "from sklearn.model_selection import train_test_split\n",
        "from sklearn.preprocessing import StandardScaler\n",
        "from sklearn.linear_model import LinearRegression\n",
        "\n",
        "# Standadizing the dataset\n",
        "#\n",
        "scaler = StandardScaler()\n",
        "scaled= scaler.fit_transform(revised)\n",
        "\n",
        "# Creating a dataframe using scaled values\n",
        "\n",
        "data = pd.DataFrame(scaled,columns=cols)\n",
        "\n",
        "# Spliting data into featues and labels\n",
        "X = data.drop(columns=['price'])\n",
        "y = data['price']\n",
        "\n",
        "# Spliting dataset into test and train\n",
        "X_train, X_test, y_train, y_test = train_test_split(X_std, y, test_size=0.2, random_state=0)"
      ],
      "execution_count": 460,
      "outputs": []
    },
    {
      "cell_type": "markdown",
      "metadata": {
        "id": "MklaJdJ3JvtB"
      },
      "source": [
        "## Supervised learning"
      ]
    },
    {
      "cell_type": "markdown",
      "metadata": {
        "id": "6mg359UbJ_L9"
      },
      "source": [
        "While performing your regression analysis, you will be required to perform modeling using the given regression techniques then evaluate their performance. You will be then required to provide your observations and recommendation on the suitability of each of the tested models on their appropriateness of solving the given problem. \n",
        "\n",
        "* Multiple Linear Regression\n",
        "* Quantile Regression\n",
        "* Ridge Regression\n",
        "* Lasso Regression\n",
        "* Elastic Net Regression"
      ]
    },
    {
      "cell_type": "markdown",
      "metadata": {
        "id": "7bbCFkJpJ2gK"
      },
      "source": [
        "### a) Multiple Linear Regression"
      ]
    },
    {
      "cell_type": "code",
      "metadata": {
        "colab": {
          "base_uri": "https://localhost:8080/"
        },
        "id": "qBdhwUz_ZSfj",
        "outputId": "b9c3d95a-78d8-40ee-dbad-913fa2bdb3ba"
      },
      "source": [
        "# Fitting lineer regression to our model\n",
        "regressor = LinearRegression()\n",
        "regressor.fit(X_train, y_train)\n",
        "\n",
        "#display the intercept / bias\n",
        "print(regressor.intercept_)\n",
        "\n",
        "#display the coefficient\n",
        "print(regressor.coef_)\n"
      ],
      "execution_count": 373,
      "outputs": [
        {
          "output_type": "stream",
          "name": "stdout",
          "text": [
            "0.0003240342964675119\n",
            "[-0.07169703  0.07397095  0.37935125 -0.03387129  0.03117302  0.13409361\n",
            "  0.13254882  0.37842908 -0.27930982  0.01998717 -0.10081977  0.26109459\n",
            " -0.04853056]\n"
          ]
        }
      ]
    },
    {
      "cell_type": "code",
      "metadata": {
        "colab": {
          "base_uri": "https://localhost:8080/",
          "height": 457
        },
        "id": "keOXGt1_SW9g",
        "outputId": "289d0868-1c3f-413c-cf35-1564b5fb325e"
      },
      "source": [
        "# Creating a dataframe for coefficients\n",
        "coef = pd.DataFrame(data=regressor.coef_, index=X.columns)\n",
        "coef"
      ],
      "execution_count": 374,
      "outputs": [
        {
          "output_type": "execute_result",
          "data": {
            "text/html": [
              "<div>\n",
              "<style scoped>\n",
              "    .dataframe tbody tr th:only-of-type {\n",
              "        vertical-align: middle;\n",
              "    }\n",
              "\n",
              "    .dataframe tbody tr th {\n",
              "        vertical-align: top;\n",
              "    }\n",
              "\n",
              "    .dataframe thead th {\n",
              "        text-align: right;\n",
              "    }\n",
              "</style>\n",
              "<table border=\"1\" class=\"dataframe\">\n",
              "  <thead>\n",
              "    <tr style=\"text-align: right;\">\n",
              "      <th></th>\n",
              "      <th>0</th>\n",
              "    </tr>\n",
              "  </thead>\n",
              "  <tbody>\n",
              "    <tr>\n",
              "      <th>bedrooms</th>\n",
              "      <td>-0.071697</td>\n",
              "    </tr>\n",
              "    <tr>\n",
              "      <th>bathrooms</th>\n",
              "      <td>0.073971</td>\n",
              "    </tr>\n",
              "    <tr>\n",
              "      <th>sqft_living_area</th>\n",
              "      <td>0.379351</td>\n",
              "    </tr>\n",
              "    <tr>\n",
              "      <th>sqft_plot</th>\n",
              "      <td>-0.033871</td>\n",
              "    </tr>\n",
              "    <tr>\n",
              "      <th>floors</th>\n",
              "      <td>0.031173</td>\n",
              "    </tr>\n",
              "    <tr>\n",
              "      <th>waterfront</th>\n",
              "      <td>0.134094</td>\n",
              "    </tr>\n",
              "    <tr>\n",
              "      <th>view</th>\n",
              "      <td>0.132549</td>\n",
              "    </tr>\n",
              "    <tr>\n",
              "      <th>grade</th>\n",
              "      <td>0.378429</td>\n",
              "    </tr>\n",
              "    <tr>\n",
              "      <th>year_built</th>\n",
              "      <td>-0.279310</td>\n",
              "    </tr>\n",
              "    <tr>\n",
              "      <th>year_renovated</th>\n",
              "      <td>0.019987</td>\n",
              "    </tr>\n",
              "    <tr>\n",
              "      <th>zipcode</th>\n",
              "      <td>-0.100820</td>\n",
              "    </tr>\n",
              "    <tr>\n",
              "      <th>latitude</th>\n",
              "      <td>0.261095</td>\n",
              "    </tr>\n",
              "    <tr>\n",
              "      <th>longitude</th>\n",
              "      <td>-0.048531</td>\n",
              "    </tr>\n",
              "  </tbody>\n",
              "</table>\n",
              "</div>"
            ],
            "text/plain": [
              "                         0\n",
              "bedrooms         -0.071697\n",
              "bathrooms         0.073971\n",
              "sqft_living_area  0.379351\n",
              "sqft_plot        -0.033871\n",
              "floors            0.031173\n",
              "waterfront        0.134094\n",
              "view              0.132549\n",
              "grade             0.378429\n",
              "year_built       -0.279310\n",
              "year_renovated    0.019987\n",
              "zipcode          -0.100820\n",
              "latitude          0.261095\n",
              "longitude        -0.048531"
            ]
          },
          "metadata": {},
          "execution_count": 374
        }
      ]
    },
    {
      "cell_type": "markdown",
      "metadata": {
        "id": "4DZwCoZBTVGQ"
      },
      "source": [
        "Square foot living area and grade have the strongest impact on price all other coefficients being constant"
      ]
    },
    {
      "cell_type": "code",
      "metadata": {
        "id": "FQzbZjkNMNOy"
      },
      "source": [
        "# This is our prediction for admission based on our model\n",
        "y_pred_linear = regressor.predict(X_test)\n"
      ],
      "execution_count": 378,
      "outputs": []
    },
    {
      "cell_type": "code",
      "metadata": {
        "colab": {
          "base_uri": "https://localhost:8080/",
          "height": 423
        },
        "id": "hG9IMOiPZd8Q",
        "outputId": "5c561aae-1fa8-487b-9848-4610d3777071"
      },
      "source": [
        "# Creating a dataframe of actual vs predicted\n",
        "df = pd.DataFrame({'Actual': y_test, 'Predicted':y_pred_linear})\n",
        "df"
      ],
      "execution_count": 379,
      "outputs": [
        {
          "output_type": "execute_result",
          "data": {
            "text/html": [
              "<div>\n",
              "<style scoped>\n",
              "    .dataframe tbody tr th:only-of-type {\n",
              "        vertical-align: middle;\n",
              "    }\n",
              "\n",
              "    .dataframe tbody tr th {\n",
              "        vertical-align: top;\n",
              "    }\n",
              "\n",
              "    .dataframe thead th {\n",
              "        text-align: right;\n",
              "    }\n",
              "</style>\n",
              "<table border=\"1\" class=\"dataframe\">\n",
              "  <thead>\n",
              "    <tr style=\"text-align: right;\">\n",
              "      <th></th>\n",
              "      <th>Actual</th>\n",
              "      <th>Predicted</th>\n",
              "    </tr>\n",
              "  </thead>\n",
              "  <tbody>\n",
              "    <tr>\n",
              "      <th>13353</th>\n",
              "      <td>0.618834</td>\n",
              "      <td>1.206003</td>\n",
              "    </tr>\n",
              "    <tr>\n",
              "      <th>768</th>\n",
              "      <td>-0.729743</td>\n",
              "      <td>-1.017211</td>\n",
              "    </tr>\n",
              "    <tr>\n",
              "      <th>18689</th>\n",
              "      <td>-0.194537</td>\n",
              "      <td>-0.446922</td>\n",
              "    </tr>\n",
              "    <tr>\n",
              "      <th>8172</th>\n",
              "      <td>-0.509649</td>\n",
              "      <td>-0.011541</td>\n",
              "    </tr>\n",
              "    <tr>\n",
              "      <th>19383</th>\n",
              "      <td>-0.345961</td>\n",
              "      <td>-0.669752</td>\n",
              "    </tr>\n",
              "    <tr>\n",
              "      <th>...</th>\n",
              "      <td>...</td>\n",
              "      <td>...</td>\n",
              "    </tr>\n",
              "    <tr>\n",
              "      <th>10901</th>\n",
              "      <td>-0.754772</td>\n",
              "      <td>-0.978133</td>\n",
              "    </tr>\n",
              "    <tr>\n",
              "      <th>19355</th>\n",
              "      <td>-0.444076</td>\n",
              "      <td>-0.046286</td>\n",
              "    </tr>\n",
              "    <tr>\n",
              "      <th>16841</th>\n",
              "      <td>0.422605</td>\n",
              "      <td>0.518892</td>\n",
              "    </tr>\n",
              "    <tr>\n",
              "      <th>2185</th>\n",
              "      <td>0.798057</td>\n",
              "      <td>0.588678</td>\n",
              "    </tr>\n",
              "    <tr>\n",
              "      <th>5211</th>\n",
              "      <td>0.079203</td>\n",
              "      <td>0.065995</td>\n",
              "    </tr>\n",
              "  </tbody>\n",
              "</table>\n",
              "<p>3923 rows × 2 columns</p>\n",
              "</div>"
            ],
            "text/plain": [
              "         Actual  Predicted\n",
              "13353  0.618834   1.206003\n",
              "768   -0.729743  -1.017211\n",
              "18689 -0.194537  -0.446922\n",
              "8172  -0.509649  -0.011541\n",
              "19383 -0.345961  -0.669752\n",
              "...         ...        ...\n",
              "10901 -0.754772  -0.978133\n",
              "19355 -0.444076  -0.046286\n",
              "16841  0.422605   0.518892\n",
              "2185   0.798057   0.588678\n",
              "5211   0.079203   0.065995\n",
              "\n",
              "[3923 rows x 2 columns]"
            ]
          },
          "metadata": {},
          "execution_count": 379
        }
      ]
    },
    {
      "cell_type": "code",
      "metadata": {
        "colab": {
          "base_uri": "https://localhost:8080/"
        },
        "id": "QyMXvVKLZula",
        "outputId": "6a9d2a29-5ebf-449a-f8c0-2be4a1fd2d14"
      },
      "source": [
        "# Evaluating the Algorithm\n",
        "from sklearn import metrics\n",
        "\n",
        "print('Mean Absolute Error:', metrics.mean_absolute_error(y_test, y_pred_linear))\n",
        "print('Mean Squared Error:', metrics.mean_squared_error(y_test, y_pred_linear))\n",
        "print('Root Mean Squared Error:', np.sqrt(metrics.mean_squared_error(y_test, y_pred_linear)))\n",
        "print('Variance score: {0:.2f}'.format(regressor.score(X_test, y_test)))\n"
      ],
      "execution_count": 380,
      "outputs": [
        {
          "output_type": "stream",
          "name": "stdout",
          "text": [
            "Mean Absolute Error: 0.373969734372824\n",
            "Mean Squared Error: 0.33755311010441835\n",
            "Root Mean Squared Error: 0.5809932100329731\n",
            "Variance score: 0.67\n"
          ]
        }
      ]
    },
    {
      "cell_type": "markdown",
      "metadata": {
        "id": "5Hkn6cvfWhII"
      },
      "source": [
        "* The RMSE of the linear regression model is 58% of the mean of price thus the model is not great at making predictions\n",
        "* The model has a score of 67%"
      ]
    },
    {
      "cell_type": "markdown",
      "metadata": {
        "id": "4w6Yh6LyZ_Ky"
      },
      "source": [
        "##### Challenging the solution"
      ]
    },
    {
      "cell_type": "code",
      "metadata": {
        "colab": {
          "base_uri": "https://localhost:8080/",
          "height": 300
        },
        "id": "Oo7yiYoBaIuM",
        "outputId": "58f6765d-d403-40a4-d74f-fa11bf954d69"
      },
      "source": [
        "# We now create the residual by substracting the test value from the predicted \n",
        "# value for each row in our dataset\n",
        "\n",
        "residuals = np.subtract(y_pred_linear, y_test)\n",
        "\n",
        "# Let's describe our residual:\n",
        "pd.DataFrame(residuals).describe()\n"
      ],
      "execution_count": 381,
      "outputs": [
        {
          "output_type": "execute_result",
          "data": {
            "text/html": [
              "<div>\n",
              "<style scoped>\n",
              "    .dataframe tbody tr th:only-of-type {\n",
              "        vertical-align: middle;\n",
              "    }\n",
              "\n",
              "    .dataframe tbody tr th {\n",
              "        vertical-align: top;\n",
              "    }\n",
              "\n",
              "    .dataframe thead th {\n",
              "        text-align: right;\n",
              "    }\n",
              "</style>\n",
              "<table border=\"1\" class=\"dataframe\">\n",
              "  <thead>\n",
              "    <tr style=\"text-align: right;\">\n",
              "      <th></th>\n",
              "      <th>price</th>\n",
              "    </tr>\n",
              "  </thead>\n",
              "  <tbody>\n",
              "    <tr>\n",
              "      <th>count</th>\n",
              "      <td>3923.000000</td>\n",
              "    </tr>\n",
              "    <tr>\n",
              "      <th>mean</th>\n",
              "      <td>0.001620</td>\n",
              "    </tr>\n",
              "    <tr>\n",
              "      <th>std</th>\n",
              "      <td>0.581065</td>\n",
              "    </tr>\n",
              "    <tr>\n",
              "      <th>min</th>\n",
              "      <td>-7.120606</td>\n",
              "    </tr>\n",
              "    <tr>\n",
              "      <th>25%</th>\n",
              "      <td>-0.230618</td>\n",
              "    </tr>\n",
              "    <tr>\n",
              "      <th>50%</th>\n",
              "      <td>0.041951</td>\n",
              "    </tr>\n",
              "    <tr>\n",
              "      <th>75%</th>\n",
              "      <td>0.300581</td>\n",
              "    </tr>\n",
              "    <tr>\n",
              "      <th>max</th>\n",
              "      <td>2.236872</td>\n",
              "    </tr>\n",
              "  </tbody>\n",
              "</table>\n",
              "</div>"
            ],
            "text/plain": [
              "             price\n",
              "count  3923.000000\n",
              "mean      0.001620\n",
              "std       0.581065\n",
              "min      -7.120606\n",
              "25%      -0.230618\n",
              "50%       0.041951\n",
              "75%       0.300581\n",
              "max       2.236872"
            ]
          },
          "metadata": {},
          "execution_count": 381
        }
      ]
    },
    {
      "cell_type": "code",
      "metadata": {
        "colab": {
          "base_uri": "https://localhost:8080/",
          "height": 279
        },
        "id": "fVMJwtR-aNqc",
        "outputId": "9f1f55e8-8f11-4baf-e8c7-0f5227d28caa"
      },
      "source": [
        "# Plotting predictions vs residuals\n",
        "import matplotlib.pyplot as plt\n",
        "\n",
        "plt.scatter(y_predict, residuals, color='black')\n",
        "plt.ylabel('residual')\n",
        "plt.xlabel('fitted values')\n",
        "plt.axhline(y= residuals.mean(), color='red', linewidth=1)\n",
        "plt.show()"
      ],
      "execution_count": 382,
      "outputs": [
        {
          "output_type": "display_data",
          "data": {
            "image/png": "[encoded data removed]",
            "text/plain": [
              "<Figure size 432x288 with 1 Axes>"
            ]
          },
          "metadata": {
            "needs_background": "light"
          }
        }
      ]
    },
    {
      "cell_type": "code",
      "metadata": {
        "colab": {
          "base_uri": "https://localhost:8080/"
        },
        "id": "38pk6nQRaXAm",
        "outputId": "333123a1-6f0b-4ad2-9a4e-35691cfbb912"
      },
      "source": [
        "# Test to determine if variance is homogenous across our data\n",
        "import scipy as sp\n",
        "\n",
        "test_result, p_value = sp.stats.bartlett(y_pred_linear, residuals)\n",
        "\n",
        "# To interpret the results we must also compute a critical value of the chi squared distribution\n",
        "degree_of_freedom = len(y_pred_linear)-1\n",
        "probability = 1 - p_value\n",
        "\n",
        "critical_value = sp.stats.chi2.ppf(probability, degree_of_freedom)\n",
        "print(critical_value)\n",
        "\n",
        "# If the test_result is greater than the critical value, then we reject our null\n",
        "# hypothesis. This would mean that there are patterns to the variance of the data\n",
        "\n",
        "# Otherwise, we can identify no patterns, and we accept the null hypothesis that \n",
        "# the variance is homogeneous across our data\n",
        "\n",
        "if (test_result > critical_value):\n",
        "  print('the variances are unequal, and the model should be reassessed')\n",
        "else:\n",
        "  print('the variances are homogeneous!')\n",
        "\n"
      ],
      "execution_count": 383,
      "outputs": [
        {
          "output_type": "stream",
          "name": "stdout",
          "text": [
            "inf\n",
            "the variances are homogeneous!\n"
          ]
        }
      ]
    },
    {
      "cell_type": "markdown",
      "metadata": {
        "id": "YH_cNvQIVyGD"
      },
      "source": [
        "The model has low variance and the accuracy is good would recommend using another regression model for predictions"
      ]
    },
    {
      "cell_type": "markdown",
      "metadata": {
        "id": "pzJH2y1wKW0n"
      },
      "source": [
        "### b) Quantile Regression"
      ]
    },
    {
      "cell_type": "code",
      "metadata": {
        "colab": {
          "base_uri": "https://localhost:8080/"
        },
        "id": "XRLGQbX_u0MK",
        "outputId": "ac34d12d-b04e-41f7-bd3b-7ddd9f5a7b05"
      },
      "source": [
        "data.columns"
      ],
      "execution_count": 503,
      "outputs": [
        {
          "output_type": "execute_result",
          "data": {
            "text/plain": [
              "Index(['price', 'bedrooms', 'bathrooms', 'sqft_living_area', 'sqft_plot',\n",
              "       'floors', 'waterfront', 'view', 'grade', 'year_built', 'year_renovated',\n",
              "       'zipcode', 'latitude', 'longitude'],\n",
              "      dtype='object')"
            ]
          },
          "metadata": {},
          "execution_count": 503
        }
      ]
    },
    {
      "cell_type": "code",
      "metadata": {
        "colab": {
          "base_uri": "https://localhost:8080/",
          "height": 443
        },
        "id": "YoE2rDx5wbq3",
        "outputId": "5f21d946-e15b-4d69-bbc1-7da4519561de"
      },
      "source": [
        "X"
      ],
      "execution_count": 504,
      "outputs": [
        {
          "output_type": "execute_result",
          "data": {
            "text/html": [
              "<div>\n",
              "<style scoped>\n",
              "    .dataframe tbody tr th:only-of-type {\n",
              "        vertical-align: middle;\n",
              "    }\n",
              "\n",
              "    .dataframe tbody tr th {\n",
              "        vertical-align: top;\n",
              "    }\n",
              "\n",
              "    .dataframe thead th {\n",
              "        text-align: right;\n",
              "    }\n",
              "</style>\n",
              "<table border=\"1\" class=\"dataframe\">\n",
              "  <thead>\n",
              "    <tr style=\"text-align: right;\">\n",
              "      <th></th>\n",
              "      <th>bedrooms</th>\n",
              "      <th>bathrooms</th>\n",
              "      <th>sqft_living_area</th>\n",
              "      <th>sqft_plot</th>\n",
              "      <th>floors</th>\n",
              "      <th>waterfront</th>\n",
              "      <th>view</th>\n",
              "      <th>grade</th>\n",
              "      <th>year_built</th>\n",
              "      <th>year_renovated</th>\n",
              "      <th>zipcode</th>\n",
              "      <th>latitude</th>\n",
              "      <th>longitude</th>\n",
              "    </tr>\n",
              "  </thead>\n",
              "  <tbody>\n",
              "    <tr>\n",
              "      <th>0</th>\n",
              "      <td>-0.381809</td>\n",
              "      <td>-1.471186</td>\n",
              "      <td>-1.019159</td>\n",
              "      <td>-0.483268</td>\n",
              "      <td>-0.892613</td>\n",
              "      <td>-0.078127</td>\n",
              "      <td>-0.291646</td>\n",
              "      <td>-0.521673</td>\n",
              "      <td>-0.501455</td>\n",
              "      <td>-0.207669</td>\n",
              "      <td>1.794118</td>\n",
              "      <td>-0.370639</td>\n",
              "      <td>-0.226819</td>\n",
              "    </tr>\n",
              "    <tr>\n",
              "      <th>1</th>\n",
              "      <td>-0.381809</td>\n",
              "      <td>0.256652</td>\n",
              "      <td>0.759805</td>\n",
              "      <td>-0.135695</td>\n",
              "      <td>0.950204</td>\n",
              "      <td>-0.078127</td>\n",
              "      <td>-0.291646</td>\n",
              "      <td>-0.521673</td>\n",
              "      <td>-0.635419</td>\n",
              "      <td>4.802106</td>\n",
              "      <td>0.816826</td>\n",
              "      <td>1.161334</td>\n",
              "      <td>-0.692561</td>\n",
              "    </tr>\n",
              "    <tr>\n",
              "      <th>2</th>\n",
              "      <td>-1.502105</td>\n",
              "      <td>-1.471186</td>\n",
              "      <td>-1.543889</td>\n",
              "      <td>0.466444</td>\n",
              "      <td>-0.892613</td>\n",
              "      <td>-0.078127</td>\n",
              "      <td>-0.291646</td>\n",
              "      <td>-1.463295</td>\n",
              "      <td>-1.238259</td>\n",
              "      <td>-0.207669</td>\n",
              "      <td>-0.971801</td>\n",
              "      <td>1.284739</td>\n",
              "      <td>-0.046532</td>\n",
              "    </tr>\n",
              "    <tr>\n",
              "      <th>3</th>\n",
              "      <td>0.738488</td>\n",
              "      <td>1.293355</td>\n",
              "      <td>-0.020891</td>\n",
              "      <td>-0.625179</td>\n",
              "      <td>-0.892613</td>\n",
              "      <td>-0.078127</td>\n",
              "      <td>-0.291646</td>\n",
              "      <td>-0.521673</td>\n",
              "      <td>-0.166544</td>\n",
              "      <td>-0.207669</td>\n",
              "      <td>1.019660</td>\n",
              "      <td>-0.300540</td>\n",
              "      <td>-1.248446</td>\n",
              "    </tr>\n",
              "    <tr>\n",
              "      <th>4</th>\n",
              "      <td>-0.381809</td>\n",
              "      <td>-0.088916</td>\n",
              "      <td>-0.379244</td>\n",
              "      <td>0.047260</td>\n",
              "      <td>-0.892613</td>\n",
              "      <td>-0.078127</td>\n",
              "      <td>-0.291646</td>\n",
              "      <td>0.419950</td>\n",
              "      <td>0.570260</td>\n",
              "      <td>-0.207669</td>\n",
              "      <td>-0.123586</td>\n",
              "      <td>0.400459</td>\n",
              "      <td>1.365718</td>\n",
              "    </tr>\n",
              "    <tr>\n",
              "      <th>...</th>\n",
              "      <td>...</td>\n",
              "      <td>...</td>\n",
              "      <td>...</td>\n",
              "      <td>...</td>\n",
              "      <td>...</td>\n",
              "      <td>...</td>\n",
              "      <td>...</td>\n",
              "      <td>...</td>\n",
              "      <td>...</td>\n",
              "      <td>...</td>\n",
              "      <td>...</td>\n",
              "      <td>...</td>\n",
              "      <td>...</td>\n",
              "    </tr>\n",
              "    <tr>\n",
              "      <th>19610</th>\n",
              "      <td>-0.381809</td>\n",
              "      <td>0.602220</td>\n",
              "      <td>-0.571218</td>\n",
              "      <td>-1.469877</td>\n",
              "      <td>2.793020</td>\n",
              "      <td>-0.078127</td>\n",
              "      <td>-0.291646</td>\n",
              "      <td>0.419950</td>\n",
              "      <td>1.307064</td>\n",
              "      <td>-0.207669</td>\n",
              "      <td>0.411158</td>\n",
              "      <td>1.002879</td>\n",
              "      <td>-0.895384</td>\n",
              "    </tr>\n",
              "    <tr>\n",
              "      <th>19611</th>\n",
              "      <td>0.738488</td>\n",
              "      <td>0.602220</td>\n",
              "      <td>0.427049</td>\n",
              "      <td>-0.447681</td>\n",
              "      <td>0.950204</td>\n",
              "      <td>-0.078127</td>\n",
              "      <td>-0.291646</td>\n",
              "      <td>0.419950</td>\n",
              "      <td>1.474520</td>\n",
              "      <td>-0.207669</td>\n",
              "      <td>1.204055</td>\n",
              "      <td>-0.374290</td>\n",
              "      <td>-1.015575</td>\n",
              "    </tr>\n",
              "    <tr>\n",
              "      <th>19612</th>\n",
              "      <td>-1.502105</td>\n",
              "      <td>-1.816754</td>\n",
              "      <td>-1.223932</td>\n",
              "      <td>-1.422064</td>\n",
              "      <td>0.950204</td>\n",
              "      <td>-0.078127</td>\n",
              "      <td>-0.291646</td>\n",
              "      <td>-0.521673</td>\n",
              "      <td>1.307064</td>\n",
              "      <td>-0.207669</td>\n",
              "      <td>1.167176</td>\n",
              "      <td>0.236892</td>\n",
              "      <td>-0.542321</td>\n",
              "    </tr>\n",
              "    <tr>\n",
              "      <th>19613</th>\n",
              "      <td>-0.381809</td>\n",
              "      <td>0.602220</td>\n",
              "      <td>-0.481630</td>\n",
              "      <td>-1.195443</td>\n",
              "      <td>0.950204</td>\n",
              "      <td>-0.078127</td>\n",
              "      <td>-0.291646</td>\n",
              "      <td>0.419950</td>\n",
              "      <td>1.139609</td>\n",
              "      <td>-0.207669</td>\n",
              "      <td>-0.990241</td>\n",
              "      <td>-0.200501</td>\n",
              "      <td>1.185431</td>\n",
              "    </tr>\n",
              "    <tr>\n",
              "      <th>19614</th>\n",
              "      <td>-1.502105</td>\n",
              "      <td>-1.816754</td>\n",
              "      <td>-1.223932</td>\n",
              "      <td>-1.481884</td>\n",
              "      <td>0.950204</td>\n",
              "      <td>-0.078127</td>\n",
              "      <td>-0.291646</td>\n",
              "      <td>-0.521673</td>\n",
              "      <td>1.273573</td>\n",
              "      <td>-0.207669</td>\n",
              "      <td>1.167176</td>\n",
              "      <td>0.234702</td>\n",
              "      <td>-0.542321</td>\n",
              "    </tr>\n",
              "  </tbody>\n",
              "</table>\n",
              "<p>19615 rows × 13 columns</p>\n",
              "</div>"
            ],
            "text/plain": [
              "       bedrooms  bathrooms  sqft_living_area  ...   zipcode  latitude  longitude\n",
              "0     -0.381809  -1.471186         -1.019159  ...  1.794118 -0.370639  -0.226819\n",
              "1     -0.381809   0.256652          0.759805  ...  0.816826  1.161334  -0.692561\n",
              "2     -1.502105  -1.471186         -1.543889  ... -0.971801  1.284739  -0.046532\n",
              "3      0.738488   1.293355         -0.020891  ...  1.019660 -0.300540  -1.248446\n",
              "4     -0.381809  -0.088916         -0.379244  ... -0.123586  0.400459   1.365718\n",
              "...         ...        ...               ...  ...       ...       ...        ...\n",
              "19610 -0.381809   0.602220         -0.571218  ...  0.411158  1.002879  -0.895384\n",
              "19611  0.738488   0.602220          0.427049  ...  1.204055 -0.374290  -1.015575\n",
              "19612 -1.502105  -1.816754         -1.223932  ...  1.167176  0.236892  -0.542321\n",
              "19613 -0.381809   0.602220         -0.481630  ... -0.990241 -0.200501   1.185431\n",
              "19614 -1.502105  -1.816754         -1.223932  ...  1.167176  0.234702  -0.542321\n",
              "\n",
              "[19615 rows x 13 columns]"
            ]
          },
          "metadata": {},
          "execution_count": 504
        }
      ]
    },
    {
      "cell_type": "code",
      "metadata": {
        "colab": {
          "base_uri": "https://localhost:8080/",
          "height": 571
        },
        "id": "BGYwQVSooKbo",
        "outputId": "6019da88-b5a4-45cc-a1b1-0b649ef56ad7"
      },
      "source": [
        "# We will use the python package statsmodels for Quantile Regression\n",
        "#\n",
        "import statsmodels.formula.api as smf\n",
        "\n",
        "\n",
        "mod = smf.quantreg('y ~ X', data)\n",
        "## Similarly we can do the models for other quantiles\n",
        "# \n",
        "quantiles = np.arange(0.1,1,0.1) \n",
        "models = []\n",
        "params = []\n",
        "\n",
        "# We build models for each quantile in our list quantiles inside a for loop\n",
        "# As we build these models we also store the model parameters in a list called params. \n",
        "for qt in quantiles: \n",
        "\tres = mod.fit(q = qt )\n",
        "\tmodels.append(res)\n",
        "\tparams.append([qt, res.params['Intercept'], res.params['X']] + res.conf_int().loc['X'].tolist())"
      ],
      "execution_count": 506,
      "outputs": [
        {
          "output_type": "error",
          "ename": "KeyError",
          "evalue": "ignored",
          "traceback": [
            "\u001b[0;31m---------------------------------------------------------------------------\u001b[0m",
            "\u001b[0;31mKeyError\u001b[0m                                  Traceback (most recent call last)",
            "\u001b[0;32m/usr/local/lib/python3.7/dist-packages/pandas/core/indexes/base.py\u001b[0m in \u001b[0;36mget_loc\u001b[0;34m(self, key, method, tolerance)\u001b[0m\n\u001b[1;32m   2897\u001b[0m             \u001b[0;32mtry\u001b[0m\u001b[0;34m:\u001b[0m\u001b[0;34m\u001b[0m\u001b[0;34m\u001b[0m\u001b[0m\n\u001b[0;32m-> 2898\u001b[0;31m                 \u001b[0;32mreturn\u001b[0m \u001b[0mself\u001b[0m\u001b[0;34m.\u001b[0m\u001b[0m_engine\u001b[0m\u001b[0;34m.\u001b[0m\u001b[0mget_loc\u001b[0m\u001b[0;34m(\u001b[0m\u001b[0mcasted_key\u001b[0m\u001b[0;34m)\u001b[0m\u001b[0;34m\u001b[0m\u001b[0;34m\u001b[0m\u001b[0m\n\u001b[0m\u001b[1;32m   2899\u001b[0m             \u001b[0;32mexcept\u001b[0m \u001b[0mKeyError\u001b[0m \u001b[0;32mas\u001b[0m \u001b[0merr\u001b[0m\u001b[0;34m:\u001b[0m\u001b[0;34m\u001b[0m\u001b[0;34m\u001b[0m\u001b[0m\n",
            "\u001b[0;32mpandas/_libs/index.pyx\u001b[0m in \u001b[0;36mpandas._libs.index.IndexEngine.get_loc\u001b[0;34m()\u001b[0m\n",
            "\u001b[0;32mpandas/_libs/index.pyx\u001b[0m in \u001b[0;36mpandas._libs.index.IndexEngine.get_loc\u001b[0;34m()\u001b[0m\n",
            "\u001b[0;32mpandas/_libs/hashtable_class_helper.pxi\u001b[0m in \u001b[0;36mpandas._libs.hashtable.PyObjectHashTable.get_item\u001b[0;34m()\u001b[0m\n",
            "\u001b[0;32mpandas/_libs/hashtable_class_helper.pxi\u001b[0m in \u001b[0;36mpandas._libs.hashtable.PyObjectHashTable.get_item\u001b[0;34m()\u001b[0m\n",
            "\u001b[0;31mKeyError\u001b[0m: 'X'",
            "\nThe above exception was the direct cause of the following exception:\n",
            "\u001b[0;31mKeyError\u001b[0m                                  Traceback (most recent call last)",
            "\u001b[0;32m<ipython-input-506-308041c9483e>\u001b[0m in \u001b[0;36m<module>\u001b[0;34m()\u001b[0m\n\u001b[1;32m     16\u001b[0m         \u001b[0mres\u001b[0m \u001b[0;34m=\u001b[0m \u001b[0mmod\u001b[0m\u001b[0;34m.\u001b[0m\u001b[0mfit\u001b[0m\u001b[0;34m(\u001b[0m\u001b[0mq\u001b[0m \u001b[0;34m=\u001b[0m \u001b[0mqt\u001b[0m \u001b[0;34m)\u001b[0m\u001b[0;34m\u001b[0m\u001b[0;34m\u001b[0m\u001b[0m\n\u001b[1;32m     17\u001b[0m         \u001b[0mmodels\u001b[0m\u001b[0;34m.\u001b[0m\u001b[0mappend\u001b[0m\u001b[0;34m(\u001b[0m\u001b[0mres\u001b[0m\u001b[0;34m)\u001b[0m\u001b[0;34m\u001b[0m\u001b[0;34m\u001b[0m\u001b[0m\n\u001b[0;32m---> 18\u001b[0;31m         \u001b[0mparams\u001b[0m\u001b[0;34m.\u001b[0m\u001b[0mappend\u001b[0m\u001b[0;34m(\u001b[0m\u001b[0;34m[\u001b[0m\u001b[0mqt\u001b[0m\u001b[0;34m,\u001b[0m \u001b[0mres\u001b[0m\u001b[0;34m.\u001b[0m\u001b[0mparams\u001b[0m\u001b[0;34m[\u001b[0m\u001b[0;34m'Intercept'\u001b[0m\u001b[0;34m]\u001b[0m\u001b[0;34m,\u001b[0m \u001b[0mres\u001b[0m\u001b[0;34m.\u001b[0m\u001b[0mparams\u001b[0m\u001b[0;34m[\u001b[0m\u001b[0;34m'X'\u001b[0m\u001b[0;34m]\u001b[0m\u001b[0;34m]\u001b[0m \u001b[0;34m+\u001b[0m \u001b[0mres\u001b[0m\u001b[0;34m.\u001b[0m\u001b[0mconf_int\u001b[0m\u001b[0;34m(\u001b[0m\u001b[0;34m)\u001b[0m\u001b[0;34m.\u001b[0m\u001b[0mloc\u001b[0m\u001b[0;34m[\u001b[0m\u001b[0;34m'X'\u001b[0m\u001b[0;34m]\u001b[0m\u001b[0;34m.\u001b[0m\u001b[0mtolist\u001b[0m\u001b[0;34m(\u001b[0m\u001b[0;34m)\u001b[0m\u001b[0;34m)\u001b[0m\u001b[0;34m\u001b[0m\u001b[0;34m\u001b[0m\u001b[0m\n\u001b[0m",
            "\u001b[0;32m/usr/local/lib/python3.7/dist-packages/pandas/core/series.py\u001b[0m in \u001b[0;36m__getitem__\u001b[0;34m(self, key)\u001b[0m\n\u001b[1;32m    880\u001b[0m \u001b[0;34m\u001b[0m\u001b[0m\n\u001b[1;32m    881\u001b[0m         \u001b[0;32melif\u001b[0m \u001b[0mkey_is_scalar\u001b[0m\u001b[0;34m:\u001b[0m\u001b[0;34m\u001b[0m\u001b[0;34m\u001b[0m\u001b[0m\n\u001b[0;32m--> 882\u001b[0;31m             \u001b[0;32mreturn\u001b[0m \u001b[0mself\u001b[0m\u001b[0;34m.\u001b[0m\u001b[0m_get_value\u001b[0m\u001b[0;34m(\u001b[0m\u001b[0mkey\u001b[0m\u001b[0;34m)\u001b[0m\u001b[0;34m\u001b[0m\u001b[0;34m\u001b[0m\u001b[0m\n\u001b[0m\u001b[1;32m    883\u001b[0m \u001b[0;34m\u001b[0m\u001b[0m\n\u001b[1;32m    884\u001b[0m         \u001b[0;32mif\u001b[0m \u001b[0mis_hashable\u001b[0m\u001b[0;34m(\u001b[0m\u001b[0mkey\u001b[0m\u001b[0;34m)\u001b[0m\u001b[0;34m:\u001b[0m\u001b[0;34m\u001b[0m\u001b[0;34m\u001b[0m\u001b[0m\n",
            "\u001b[0;32m/usr/local/lib/python3.7/dist-packages/pandas/core/series.py\u001b[0m in \u001b[0;36m_get_value\u001b[0;34m(self, label, takeable)\u001b[0m\n\u001b[1;32m    988\u001b[0m \u001b[0;34m\u001b[0m\u001b[0m\n\u001b[1;32m    989\u001b[0m         \u001b[0;31m# Similar to Index.get_value, but we do not fall back to positional\u001b[0m\u001b[0;34m\u001b[0m\u001b[0;34m\u001b[0m\u001b[0;34m\u001b[0m\u001b[0m\n\u001b[0;32m--> 990\u001b[0;31m         \u001b[0mloc\u001b[0m \u001b[0;34m=\u001b[0m \u001b[0mself\u001b[0m\u001b[0;34m.\u001b[0m\u001b[0mindex\u001b[0m\u001b[0;34m.\u001b[0m\u001b[0mget_loc\u001b[0m\u001b[0;34m(\u001b[0m\u001b[0mlabel\u001b[0m\u001b[0;34m)\u001b[0m\u001b[0;34m\u001b[0m\u001b[0;34m\u001b[0m\u001b[0m\n\u001b[0m\u001b[1;32m    991\u001b[0m         \u001b[0;32mreturn\u001b[0m \u001b[0mself\u001b[0m\u001b[0;34m.\u001b[0m\u001b[0mindex\u001b[0m\u001b[0;34m.\u001b[0m\u001b[0m_get_values_for_loc\u001b[0m\u001b[0;34m(\u001b[0m\u001b[0mself\u001b[0m\u001b[0;34m,\u001b[0m \u001b[0mloc\u001b[0m\u001b[0;34m,\u001b[0m \u001b[0mlabel\u001b[0m\u001b[0;34m)\u001b[0m\u001b[0;34m\u001b[0m\u001b[0;34m\u001b[0m\u001b[0m\n\u001b[1;32m    992\u001b[0m \u001b[0;34m\u001b[0m\u001b[0m\n",
            "\u001b[0;32m/usr/local/lib/python3.7/dist-packages/pandas/core/indexes/base.py\u001b[0m in \u001b[0;36mget_loc\u001b[0;34m(self, key, method, tolerance)\u001b[0m\n\u001b[1;32m   2898\u001b[0m                 \u001b[0;32mreturn\u001b[0m \u001b[0mself\u001b[0m\u001b[0;34m.\u001b[0m\u001b[0m_engine\u001b[0m\u001b[0;34m.\u001b[0m\u001b[0mget_loc\u001b[0m\u001b[0;34m(\u001b[0m\u001b[0mcasted_key\u001b[0m\u001b[0;34m)\u001b[0m\u001b[0;34m\u001b[0m\u001b[0;34m\u001b[0m\u001b[0m\n\u001b[1;32m   2899\u001b[0m             \u001b[0;32mexcept\u001b[0m \u001b[0mKeyError\u001b[0m \u001b[0;32mas\u001b[0m \u001b[0merr\u001b[0m\u001b[0;34m:\u001b[0m\u001b[0;34m\u001b[0m\u001b[0;34m\u001b[0m\u001b[0m\n\u001b[0;32m-> 2900\u001b[0;31m                 \u001b[0;32mraise\u001b[0m \u001b[0mKeyError\u001b[0m\u001b[0;34m(\u001b[0m\u001b[0mkey\u001b[0m\u001b[0;34m)\u001b[0m \u001b[0;32mfrom\u001b[0m \u001b[0merr\u001b[0m\u001b[0;34m\u001b[0m\u001b[0;34m\u001b[0m\u001b[0m\n\u001b[0m\u001b[1;32m   2901\u001b[0m \u001b[0;34m\u001b[0m\u001b[0m\n\u001b[1;32m   2902\u001b[0m         \u001b[0;32mif\u001b[0m \u001b[0mtolerance\u001b[0m \u001b[0;32mis\u001b[0m \u001b[0;32mnot\u001b[0m \u001b[0;32mNone\u001b[0m\u001b[0;34m:\u001b[0m\u001b[0;34m\u001b[0m\u001b[0;34m\u001b[0m\u001b[0m\n",
            "\u001b[0;31mKeyError\u001b[0m: 'X'"
          ]
        }
      ]
    },
    {
      "cell_type": "markdown",
      "metadata": {
        "id": "lnUfwIvomHA3"
      },
      "source": [
        "### c)Ridge, Lasso and Linear regression"
      ]
    },
    {
      "cell_type": "markdown",
      "metadata": {
        "id": "ZoUV_YW4T4iC"
      },
      "source": [
        "A) Training the models\n",
        "In this section we will train 4 different models:\n",
        "\n",
        "* Linear regression (model_linear)\n",
        "* Ridge regression (model_ridge)\n",
        "* Lasso regression (model_lasso)\n",
        "* Elastic Net regression (model_net)"
      ]
    },
    {
      "cell_type": "code",
      "metadata": {
        "id": "7rjnWRLyT07O"
      },
      "source": [
        "# Importing libraries\n",
        "from sklearn.linear_model import LinearRegression, Ridge,RidgeCV, Lasso, LassoCV, ElasticNet, ElasticNetCV\n",
        "\n"
      ],
      "execution_count": 461,
      "outputs": []
    },
    {
      "cell_type": "code",
      "metadata": {
        "id": "Y7HgLuiNVHOR"
      },
      "source": [
        "# Grid for alpha in ridge regression\n",
        "alpha_ridge = 10**np.linspace(-3,1,100)"
      ],
      "execution_count": 481,
      "outputs": []
    },
    {
      "cell_type": "code",
      "metadata": {
        "id": "nleHEdyGVBHe"
      },
      "source": [
        "# Grid for alpha in lasso regression\n",
        "alpha_lasso = 10**np.linspace(-3,1,100)"
      ],
      "execution_count": 482,
      "outputs": []
    },
    {
      "cell_type": "code",
      "metadata": {
        "id": "MqtQYY8QWUpN"
      },
      "source": [
        "# Grid for alpha in elastic net\n",
        "alpha_elasticnet = 10**np.linspace(-3,1,100)"
      ],
      "execution_count": 483,
      "outputs": []
    },
    {
      "cell_type": "markdown",
      "metadata": {
        "id": "6-SOvtz8iEyi"
      },
      "source": [
        ""
      ]
    },
    {
      "cell_type": "code",
      "metadata": {
        "colab": {
          "base_uri": "https://localhost:8080/"
        },
        "id": "4qfBMmLlWgLH",
        "outputId": "a28f76c1-ccc0-477c-ed39-d02a5603fcae"
      },
      "source": [
        "# Getting the optimal alpha and training the model\n",
        "ridgecv = RidgeCV()\n",
        "ridgecv.fit(X_train, y_train)\n",
        "ridgecv.alpha_\n",
        "alpha_ridge_opt = ridgecv.alpha_\n",
        "print(alpha_ridge_opt)"
      ],
      "execution_count": 486,
      "outputs": [
        {
          "output_type": "stream",
          "name": "stdout",
          "text": [
            "10.0\n"
          ]
        }
      ]
    },
    {
      "cell_type": "markdown",
      "metadata": {
        "id": "6dap749ZhOwP"
      },
      "source": [
        "The optimal alpha for ridge regression is 10.0"
      ]
    },
    {
      "cell_type": "code",
      "metadata": {
        "colab": {
          "base_uri": "https://localhost:8080/"
        },
        "id": "xx594V7aWm0a",
        "outputId": "0a535f1a-1213-4e38-9d21-42516e38d9ca"
      },
      "source": [
        "# Getting the optimal alpha for lasso regression and training the alpha\n",
        "lassocv = LassoCV()\n",
        "lassocv.fit(X_train, y_train)\n",
        "lassocv.alpha_\n",
        "alpha_lasso_opt = lassocv.alpha_\n",
        "print(alpha_lasso_opt)"
      ],
      "execution_count": 487,
      "outputs": [
        {
          "output_type": "stream",
          "name": "stdout",
          "text": [
            "0.0006498452097058471\n"
          ]
        }
      ]
    },
    {
      "cell_type": "markdown",
      "metadata": {
        "id": "D3eAi6AihZoW"
      },
      "source": [
        "The optimal alpha for lasso regression is 0.0006498452097058471"
      ]
    },
    {
      "cell_type": "code",
      "metadata": {
        "colab": {
          "base_uri": "https://localhost:8080/"
        },
        "id": "7gXQ2hUwWvHe",
        "outputId": "0dfbcac0-57c0-46f8-d2d1-e0fbcbd843e9"
      },
      "source": [
        "# Getting the optimal alpha for elasric net regression and training the model\n",
        "elasticnetcv = ElasticNetCV()\n",
        "elasticnetcv.fit(X_train, y_train)\n",
        "elasticnetcv.alpha_\n",
        "\n",
        "elasticnetcv.l1_ratio_\n",
        "\n",
        "alpha_elasticnet_opt = elasticnetcv.alpha_\n",
        "print(alpha_elasticnet_opt)\n",
        "print(elasticnetcv.l1_ratio_)"
      ],
      "execution_count": 488,
      "outputs": [
        {
          "output_type": "stream",
          "name": "stdout",
          "text": [
            "0.0012996904194116942\n",
            "0.5\n"
          ]
        }
      ]
    },
    {
      "cell_type": "markdown",
      "metadata": {
        "id": "3V9ZK_XUhizD"
      },
      "source": [
        "The optimal alpha for elastic net regression is 0.0012996904194116942 with l1/l2 ratio of 0.5"
      ]
    },
    {
      "cell_type": "markdown",
      "metadata": {
        "id": "vaUN88smfZI5"
      },
      "source": [
        "Using default values the metrics are worse"
      ]
    },
    {
      "cell_type": "code",
      "metadata": {
        "id": "JJ7dMSHRUBPX"
      },
      "source": [
        "# Instatiating the methods with the optimal alphas\n",
        "model_linear = LinearRegression()\n",
        "model_ridge = Ridge(alpha=alpha_ridge_opt)\n",
        "model_lasso = Lasso(alpha=alpha_lasso_opt)\n",
        "model_net = ElasticNet(alpha=alpha_elasticnet_opt)"
      ],
      "execution_count": 489,
      "outputs": []
    },
    {
      "cell_type": "code",
      "metadata": {
        "id": "U8pwxD9lUKAI"
      },
      "source": [
        "# Fitting the methods to the data and performing predictions\n",
        "y_hat_linear= model_linear.fit(X_train, y_train).predict(X_test)\n",
        "y_hat_ridge = model_ridge.fit(X_train, y_train).predict(X_test)\n",
        "y_hat_lasso = model_lasso.fit(X_train, y_train).predict(X_test)\n",
        "y_hat_net   = model_net.fit(X_train, y_train).predict(X_test)"
      ],
      "execution_count": 490,
      "outputs": []
    },
    {
      "cell_type": "code",
      "metadata": {
        "colab": {
          "base_uri": "https://localhost:8080/",
          "height": 206
        },
        "id": "y9yofPt-UvOo",
        "outputId": "c5c21b84-00ad-4838-c8b7-df2ad34c4cce"
      },
      "source": [
        "# Creating a dataframe for the predictions\n",
        "df_predictions = pd.DataFrame({'y_test':y_test,\n",
        "                               'y_hat_linear':y_hat_linear,\n",
        "                               'y_hat_ridge':y_hat_ridge,\n",
        "                               'y_hat_lasso':y_hat_lasso,\n",
        "                               'y_hat_net':y_hat_net})\n",
        "df_predictions.head()"
      ],
      "execution_count": 491,
      "outputs": [
        {
          "output_type": "execute_result",
          "data": {
            "text/html": [
              "<div>\n",
              "<style scoped>\n",
              "    .dataframe tbody tr th:only-of-type {\n",
              "        vertical-align: middle;\n",
              "    }\n",
              "\n",
              "    .dataframe tbody tr th {\n",
              "        vertical-align: top;\n",
              "    }\n",
              "\n",
              "    .dataframe thead th {\n",
              "        text-align: right;\n",
              "    }\n",
              "</style>\n",
              "<table border=\"1\" class=\"dataframe\">\n",
              "  <thead>\n",
              "    <tr style=\"text-align: right;\">\n",
              "      <th></th>\n",
              "      <th>y_test</th>\n",
              "      <th>y_hat_linear</th>\n",
              "      <th>y_hat_ridge</th>\n",
              "      <th>y_hat_lasso</th>\n",
              "      <th>y_hat_net</th>\n",
              "    </tr>\n",
              "  </thead>\n",
              "  <tbody>\n",
              "    <tr>\n",
              "      <th>13353</th>\n",
              "      <td>0.618834</td>\n",
              "      <td>1.206003</td>\n",
              "      <td>1.205347</td>\n",
              "      <td>1.200810</td>\n",
              "      <td>1.200118</td>\n",
              "    </tr>\n",
              "    <tr>\n",
              "      <th>768</th>\n",
              "      <td>-0.729743</td>\n",
              "      <td>-1.017211</td>\n",
              "      <td>-1.016291</td>\n",
              "      <td>-1.013328</td>\n",
              "      <td>-1.012396</td>\n",
              "    </tr>\n",
              "    <tr>\n",
              "      <th>18689</th>\n",
              "      <td>-0.194537</td>\n",
              "      <td>-0.446922</td>\n",
              "      <td>-0.446307</td>\n",
              "      <td>-0.445977</td>\n",
              "      <td>-0.445343</td>\n",
              "    </tr>\n",
              "    <tr>\n",
              "      <th>8172</th>\n",
              "      <td>-0.509649</td>\n",
              "      <td>-0.011541</td>\n",
              "      <td>-0.011710</td>\n",
              "      <td>-0.013581</td>\n",
              "      <td>-0.013737</td>\n",
              "    </tr>\n",
              "    <tr>\n",
              "      <th>19383</th>\n",
              "      <td>-0.345961</td>\n",
              "      <td>-0.669752</td>\n",
              "      <td>-0.669292</td>\n",
              "      <td>-0.669655</td>\n",
              "      <td>-0.669178</td>\n",
              "    </tr>\n",
              "  </tbody>\n",
              "</table>\n",
              "</div>"
            ],
            "text/plain": [
              "         y_test  y_hat_linear  y_hat_ridge  y_hat_lasso  y_hat_net\n",
              "13353  0.618834      1.206003     1.205347     1.200810   1.200118\n",
              "768   -0.729743     -1.017211    -1.016291    -1.013328  -1.012396\n",
              "18689 -0.194537     -0.446922    -0.446307    -0.445977  -0.445343\n",
              "8172  -0.509649     -0.011541    -0.011710    -0.013581  -0.013737\n",
              "19383 -0.345961     -0.669752    -0.669292    -0.669655  -0.669178"
            ]
          },
          "metadata": {},
          "execution_count": 491
        }
      ]
    },
    {
      "cell_type": "code",
      "metadata": {
        "colab": {
          "base_uri": "https://localhost:8080/",
          "height": 457
        },
        "id": "er19ak-RUUb0",
        "outputId": "5e6235b9-db2b-4f29-80eb-096d95551d11"
      },
      "source": [
        "# Creating a table for the coefficients using the default alpha\n",
        "coefficients = pd.DataFrame()\n",
        "coefficients['model_lin']= model_linear.coef_\n",
        "coefficients['model_ridge']= model_ridge.coef_\n",
        "coefficients['model_lasso']= model_lasso.coef_\n",
        "coefficients['model_net']= model_net.coef_\n",
        "coefficients"
      ],
      "execution_count": 492,
      "outputs": [
        {
          "output_type": "execute_result",
          "data": {
            "text/html": [
              "<div>\n",
              "<style scoped>\n",
              "    .dataframe tbody tr th:only-of-type {\n",
              "        vertical-align: middle;\n",
              "    }\n",
              "\n",
              "    .dataframe tbody tr th {\n",
              "        vertical-align: top;\n",
              "    }\n",
              "\n",
              "    .dataframe thead th {\n",
              "        text-align: right;\n",
              "    }\n",
              "</style>\n",
              "<table border=\"1\" class=\"dataframe\">\n",
              "  <thead>\n",
              "    <tr style=\"text-align: right;\">\n",
              "      <th></th>\n",
              "      <th>model_lin</th>\n",
              "      <th>model_ridge</th>\n",
              "      <th>model_lasso</th>\n",
              "      <th>model_net</th>\n",
              "    </tr>\n",
              "  </thead>\n",
              "  <tbody>\n",
              "    <tr>\n",
              "      <th>0</th>\n",
              "      <td>-0.071697</td>\n",
              "      <td>-0.071411</td>\n",
              "      <td>-0.069879</td>\n",
              "      <td>-0.069576</td>\n",
              "    </tr>\n",
              "    <tr>\n",
              "      <th>1</th>\n",
              "      <td>0.073971</td>\n",
              "      <td>0.074079</td>\n",
              "      <td>0.073040</td>\n",
              "      <td>0.073161</td>\n",
              "    </tr>\n",
              "    <tr>\n",
              "      <th>2</th>\n",
              "      <td>0.379351</td>\n",
              "      <td>0.378879</td>\n",
              "      <td>0.377977</td>\n",
              "      <td>0.377484</td>\n",
              "    </tr>\n",
              "    <tr>\n",
              "      <th>3</th>\n",
              "      <td>-0.033871</td>\n",
              "      <td>-0.033715</td>\n",
              "      <td>-0.033074</td>\n",
              "      <td>-0.032918</td>\n",
              "    </tr>\n",
              "    <tr>\n",
              "      <th>4</th>\n",
              "      <td>0.031173</td>\n",
              "      <td>0.031182</td>\n",
              "      <td>0.030555</td>\n",
              "      <td>0.030557</td>\n",
              "    </tr>\n",
              "    <tr>\n",
              "      <th>5</th>\n",
              "      <td>0.134094</td>\n",
              "      <td>0.134006</td>\n",
              "      <td>0.133565</td>\n",
              "      <td>0.133476</td>\n",
              "    </tr>\n",
              "    <tr>\n",
              "      <th>6</th>\n",
              "      <td>0.132549</td>\n",
              "      <td>0.132623</td>\n",
              "      <td>0.132436</td>\n",
              "      <td>0.132513</td>\n",
              "    </tr>\n",
              "    <tr>\n",
              "      <th>7</th>\n",
              "      <td>0.378429</td>\n",
              "      <td>0.378199</td>\n",
              "      <td>0.378487</td>\n",
              "      <td>0.378249</td>\n",
              "    </tr>\n",
              "    <tr>\n",
              "      <th>8</th>\n",
              "      <td>-0.279310</td>\n",
              "      <td>-0.278920</td>\n",
              "      <td>-0.277653</td>\n",
              "      <td>-0.277255</td>\n",
              "    </tr>\n",
              "    <tr>\n",
              "      <th>9</th>\n",
              "      <td>0.019987</td>\n",
              "      <td>0.020069</td>\n",
              "      <td>0.019805</td>\n",
              "      <td>0.019889</td>\n",
              "    </tr>\n",
              "    <tr>\n",
              "      <th>10</th>\n",
              "      <td>-0.100820</td>\n",
              "      <td>-0.100617</td>\n",
              "      <td>-0.098749</td>\n",
              "      <td>-0.098545</td>\n",
              "    </tr>\n",
              "    <tr>\n",
              "      <th>11</th>\n",
              "      <td>0.261095</td>\n",
              "      <td>0.261007</td>\n",
              "      <td>0.260560</td>\n",
              "      <td>0.260473</td>\n",
              "    </tr>\n",
              "    <tr>\n",
              "      <th>12</th>\n",
              "      <td>-0.048531</td>\n",
              "      <td>-0.048506</td>\n",
              "      <td>-0.047374</td>\n",
              "      <td>-0.047351</td>\n",
              "    </tr>\n",
              "  </tbody>\n",
              "</table>\n",
              "</div>"
            ],
            "text/plain": [
              "    model_lin  model_ridge  model_lasso  model_net\n",
              "0   -0.071697    -0.071411    -0.069879  -0.069576\n",
              "1    0.073971     0.074079     0.073040   0.073161\n",
              "2    0.379351     0.378879     0.377977   0.377484\n",
              "3   -0.033871    -0.033715    -0.033074  -0.032918\n",
              "4    0.031173     0.031182     0.030555   0.030557\n",
              "5    0.134094     0.134006     0.133565   0.133476\n",
              "6    0.132549     0.132623     0.132436   0.132513\n",
              "7    0.378429     0.378199     0.378487   0.378249\n",
              "8   -0.279310    -0.278920    -0.277653  -0.277255\n",
              "9    0.019987     0.020069     0.019805   0.019889\n",
              "10  -0.100820    -0.100617    -0.098749  -0.098545\n",
              "11   0.261095     0.261007     0.260560   0.260473\n",
              "12  -0.048531    -0.048506    -0.047374  -0.047351"
            ]
          },
          "metadata": {},
          "execution_count": 492
        }
      ]
    },
    {
      "cell_type": "code",
      "metadata": {
        "colab": {
          "base_uri": "https://localhost:8080/"
        },
        "id": "p8f1VR3mckmR",
        "outputId": "80c31a15-aeca-41fc-e542-e7965797fd3c"
      },
      "source": [
        "# Metrics for linear regresion\n",
        "MSE_test = np.mean(np.square(df_predictions['y_test'] - df_predictions['y_hat_linear']))\n",
        "RMSE_test = np.sqrt(MSE_test)\n",
        "print(\"MSE Linear: \" + str(np.round(MSE_test ,3)))\n",
        "print(\"RMSE Linear: \" + str(np.round(RMSE_test ,3)))\n",
        "print(model_linear.score(X_test,y_test))"
      ],
      "execution_count": 493,
      "outputs": [
        {
          "output_type": "stream",
          "name": "stdout",
          "text": [
            "MSE Linear: 0.338\n",
            "RMSE Linear: 0.581\n",
            "0.665442913371986\n"
          ]
        }
      ]
    },
    {
      "cell_type": "markdown",
      "metadata": {
        "id": "WmGfhm0xkaz0"
      },
      "source": [
        "Linear model has an accuracy of 66.54%"
      ]
    },
    {
      "cell_type": "code",
      "metadata": {
        "colab": {
          "base_uri": "https://localhost:8080/"
        },
        "id": "fKGgdWQjcrfz",
        "outputId": "7cf17bb6-8117-4089-9746-3d6e995c1160"
      },
      "source": [
        "# Metrics for Ridge regression\n",
        "MSE_test = np.mean(np.square(df_predictions['y_test'] - df_predictions['y_hat_ridge']))\n",
        "RMSE_test = np.sqrt(MSE_test)\n",
        "print(\"MSE Ridge: \" + str(np.round(MSE_test ,3)))\n",
        "print(\"RMSE Ridge: \" + str(np.round(RMSE_test ,3)))\n",
        "print(model_ridge.score(X_test,y_test))"
      ],
      "execution_count": 494,
      "outputs": [
        {
          "output_type": "stream",
          "name": "stdout",
          "text": [
            "MSE Ridge: 0.338\n",
            "RMSE Ridge: 0.581\n",
            "0.6654416897466853\n"
          ]
        }
      ]
    },
    {
      "cell_type": "markdown",
      "metadata": {
        "id": "3g2ctgLafHUZ"
      },
      "source": [
        "Metrics are similar to linear thus ridge regression is not prefered when compared to linear"
      ]
    },
    {
      "cell_type": "code",
      "metadata": {
        "colab": {
          "base_uri": "https://localhost:8080/"
        },
        "id": "7WKEuPtIcvuP",
        "outputId": "5f797ba0-a2aa-44fe-d9ca-151895ba6f59"
      },
      "source": [
        "# Meterics for lasso regression\n",
        "MSE_test = np.mean(np.square(df_predictions['y_test'] - df_predictions['y_hat_lasso']))\n",
        "RMSE_test = np.sqrt(MSE_test)\n",
        "print(\"MSE lasso: \" + str(np.round(MSE_test ,3)))\n",
        "print(\"RMSE lasso: \" + str(np.round(RMSE_test ,3)))\n",
        "print(model_lasso.score(X_test,y_test))"
      ],
      "execution_count": 495,
      "outputs": [
        {
          "output_type": "stream",
          "name": "stdout",
          "text": [
            "MSE lasso: 0.338\n",
            "RMSE lasso: 0.581\n",
            "0.6654444732945402\n"
          ]
        }
      ]
    },
    {
      "cell_type": "markdown",
      "metadata": {
        "id": "ZjFOTw0MfRl9"
      },
      "source": [
        "Metrics for lasso regression are similar to linear thus linear is prefered"
      ]
    },
    {
      "cell_type": "code",
      "metadata": {
        "colab": {
          "base_uri": "https://localhost:8080/"
        },
        "id": "sZZex61hc2PA",
        "outputId": "0ce5a993-36b0-40fc-ce8a-e31c7f84e1df"
      },
      "source": [
        "# Metrics for elastic net\n",
        "MSE_test = np.mean(np.square(df_predictions['y_test'] - df_predictions['y_hat_net']))\n",
        "RMSE_test = np.sqrt(MSE_test)\n",
        "print(\"MSE Elastic net: \" + str(np.round(MSE_test ,3)))\n",
        "print(\"RMSE Elastic net: \" + str(np.round(RMSE_test ,3)))\n",
        "print(model_net.score(X_test,y_test))"
      ],
      "execution_count": 496,
      "outputs": [
        {
          "output_type": "stream",
          "name": "stdout",
          "text": [
            "MSE Elastic net: 0.338\n",
            "RMSE Elastic net: 0.581\n",
            "0.6654410435041016\n"
          ]
        }
      ]
    },
    {
      "cell_type": "markdown",
      "metadata": {
        "id": "cSnZGl9BlTT7"
      },
      "source": [
        "Metrics for elastic net are similar to linear thus linear regression is prefered"
      ]
    },
    {
      "cell_type": "markdown",
      "metadata": {
        "id": "ts1NBCVzxZTv"
      },
      "source": [
        "## Conclusion"
      ]
    },
    {
      "cell_type": "markdown",
      "metadata": {
        "id": "olJ4ELQ4xdKX"
      },
      "source": [
        "* The linear regression model has been the most accurate so far. For the lasso,ridge and elastic net regression models might be more accurate with better fine tuning\n",
        "* The initial goal of achieving 80% accuracy has not been achieved "
      ]
    }
  ]
}